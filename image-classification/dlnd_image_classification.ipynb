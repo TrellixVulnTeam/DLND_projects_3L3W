{
 "cells": [
  {
   "cell_type": "markdown",
   "metadata": {
    "collapsed": true,
    "deletable": true,
    "editable": true
   },
   "source": [
    "# 图像分类\n",
    "\n",
    "在此项目中，你将对 [CIFAR-10 数据集](https://www.cs.toronto.edu/~kriz/cifar.html) 中的图片进行分类。该数据集包含飞机、猫狗和其他物体。你需要预处理这些图片，然后用所有样本训练一个卷积神经网络。图片需要标准化（normalized），标签需要采用 one-hot 编码。你需要应用所学的知识构建卷积的、最大池化（max pooling）、丢弃（dropout）和完全连接（fully connected）的层。最后，你需要在样本图片上看到神经网络的预测结果。\n",
    "\n",
    "\n",
    "## 获取数据\n",
    "\n",
    "请运行以下单元，以下载 [CIFAR-10 数据集（Python版）](https://www.cs.toronto.edu/~kriz/cifar-10-python.tar.gz)。\n"
   ]
  },
  {
   "cell_type": "code",
   "execution_count": 1,
   "metadata": {
    "collapsed": false,
    "deletable": true,
    "editable": true
   },
   "outputs": [
    {
     "name": "stderr",
     "output_type": "stream",
     "text": [
      "CIFAR-10 Dataset: 171MB [00:41, 4.15MB/s]                               \n"
     ]
    },
    {
     "name": "stdout",
     "output_type": "stream",
     "text": [
      "All files found!\n"
     ]
    }
   ],
   "source": [
    "\"\"\"\n",
    "DON'T MODIFY ANYTHING IN THIS CELL THAT IS BELOW THIS LINE\n",
    "\"\"\"\n",
    "from urllib.request import urlretrieve\n",
    "from os.path import isfile, isdir\n",
    "from tqdm import tqdm\n",
    "import problem_unittests as tests\n",
    "import tarfile\n",
    "\n",
    "cifar10_dataset_folder_path = 'cifar-10-batches-py'\n",
    "\n",
    "# Use Floyd's cifar-10 dataset if present\n",
    "floyd_cifar10_location = '/input/cifar-10/python.tar.gz'\n",
    "if isfile(floyd_cifar10_location):\n",
    "    tar_gz_path = floyd_cifar10_location\n",
    "else:\n",
    "    tar_gz_path = 'cifar-10-python.tar.gz'\n",
    "\n",
    "class DLProgress(tqdm):\n",
    "    last_block = 0\n",
    "\n",
    "    def hook(self, block_num=1, block_size=1, total_size=None):\n",
    "        self.total = total_size\n",
    "        self.update((block_num - self.last_block) * block_size)\n",
    "        self.last_block = block_num\n",
    "\n",
    "if not isfile(tar_gz_path):\n",
    "    with DLProgress(unit='B', unit_scale=True, miniters=1, desc='CIFAR-10 Dataset') as pbar:\n",
    "        urlretrieve(\n",
    "            'https://www.cs.toronto.edu/~kriz/cifar-10-python.tar.gz',\n",
    "            tar_gz_path,\n",
    "            pbar.hook)\n",
    "\n",
    "if not isdir(cifar10_dataset_folder_path):\n",
    "    with tarfile.open(tar_gz_path) as tar:\n",
    "        tar.extractall()\n",
    "        tar.close()\n",
    "\n",
    "\n",
    "tests.test_folder_path(cifar10_dataset_folder_path)"
   ]
  },
  {
   "cell_type": "markdown",
   "metadata": {
    "deletable": true,
    "editable": true
   },
   "source": [
    "## 探索数据\n",
    "\n",
    "该数据集分成了几部分／批次（batches），以免你的机器在计算时内存不足。CIFAR-10 数据集包含 5 个部分，名称分别为 `data_batch_1`、`data_batch_2`，以此类推。每个部分都包含以下某个类别的标签和图片：\n",
    "\n",
    "* 飞机\n",
    "* 汽车\n",
    "* 鸟类\n",
    "* 猫\n",
    "* 鹿\n",
    "* 狗\n",
    "* 青蛙\n",
    "* 马\n",
    "* 船只\n",
    "* 卡车\n",
    "\n",
    "了解数据集也是对数据进行预测的必经步骤。你可以通过更改 `batch_id` 和 `sample_id` 探索下面的代码单元。`batch_id` 是数据集一个部分的 ID（1 到 5）。`sample_id` 是该部分中图片和标签对（label pair）的 ID。\n",
    "\n",
    "问问你自己：“可能的标签有哪些？”、“图片数据的值范围是多少？”、“标签是按顺序排列，还是随机排列的？”。思考类似的问题，有助于你预处理数据，并使预测结果更准确。\n"
   ]
  },
  {
   "cell_type": "code",
   "execution_count": 2,
   "metadata": {
    "collapsed": false,
    "deletable": true,
    "editable": true
   },
   "outputs": [
    {
     "name": "stdout",
     "output_type": "stream",
     "text": [
      "\n",
      "Stats of batch 1:\n",
      "Samples: 10000\n",
      "Label Counts: {0: 1005, 1: 974, 2: 1032, 3: 1016, 4: 999, 5: 937, 6: 1030, 7: 1001, 8: 1025, 9: 981}\n",
      "First 20 Labels: [6, 9, 9, 4, 1, 1, 2, 7, 8, 3, 4, 7, 7, 2, 9, 9, 9, 3, 2, 6]\n",
      "\n",
      "Example of Image 5:\n",
      "Image - Min Value: 0 Max Value: 252\n",
      "Image - Shape: (32, 32, 3)\n",
      "Label - Label Id: 1 Name: automobile\n"
     ]
    },
    {
     "data": {
      "image/png": "[encoded data removed]",
      "text/plain": [
       "<matplotlib.figure.Figure at 0x7fc8625fab38>"
      ]
     },
     "metadata": {
      "image/png": {
       "height": 250,
       "width": 253
      }
     },
     "output_type": "display_data"
    }
   ],
   "source": [
    "%matplotlib inline\n",
    "%config InlineBackend.figure_format = 'retina'\n",
    "\n",
    "import helper\n",
    "import numpy as np\n",
    "\n",
    "# Explore the dataset\n",
    "batch_id = 1\n",
    "sample_id = 5\n",
    "helper.display_stats(cifar10_dataset_folder_path, batch_id, sample_id)"
   ]
  },
  {
   "cell_type": "markdown",
   "metadata": {
    "deletable": true,
    "editable": true
   },
   "source": [
    "## 实现预处理函数\n",
    "\n",
    "### 标准化\n",
    "\n",
    "在下面的单元中，实现 `normalize` 函数，传入图片数据 `x`，并返回标准化 Numpy 数组。值应该在 0 到 1 的范围内（含 0 和 1）。返回对象应该和 `x` 的形状一样。\n"
   ]
  },
  {
   "cell_type": "code",
   "execution_count": 3,
   "metadata": {
    "collapsed": false,
    "deletable": true,
    "editable": true
   },
   "outputs": [
    {
     "name": "stdout",
     "output_type": "stream",
     "text": [
      "Tests Passed\n"
     ]
    }
   ],
   "source": [
    "def normalize(x):\n",
    "    \"\"\"\n",
    "    Normalize a list of sample image data in the range of 0 to 1\n",
    "    : x: List of image data.  The image shape is (32, 32, 3)\n",
    "    : return: Numpy array of normalize data\n",
    "    \"\"\"\n",
    "    # TODO: Implement Function\n",
    "    a, b = 0, 1\n",
    "    min_value, max_value = 0, 255\n",
    "    \n",
    "    return a + (((x - min_value) * (b - a)) / (max_value - min_value))\n",
    "\n",
    "\"\"\"\n",
    "DON'T MODIFY ANYTHING IN THIS CELL THAT IS BELOW THIS LINE\n",
    "\"\"\"\n",
    "tests.test_normalize(normalize)"
   ]
  },
  {
   "cell_type": "markdown",
   "metadata": {
    "deletable": true,
    "editable": true
   },
   "source": [
    "### One-hot 编码\n",
    "\n",
    "和之前的代码单元一样，你将为预处理实现一个函数。这次，你将实现 `one_hot_encode` 函数。输入，也就是 `x`，是一个标签列表。实现该函数，以返回为 one_hot 编码的 Numpy 数组的标签列表。标签的可能值为 0 到 9。每次调用 `one_hot_encode` 时，对于每个值，one_hot 编码函数应该返回相同的编码。确保将编码映射保存到该函数外面。\n",
    "\n",
    "提示：不要重复发明轮子。\n"
   ]
  },
  {
   "cell_type": "code",
   "execution_count": 4,
   "metadata": {
    "collapsed": false,
    "deletable": true,
    "editable": true
   },
   "outputs": [
    {
     "name": "stdout",
     "output_type": "stream",
     "text": [
      "Tests Passed\n"
     ]
    }
   ],
   "source": [
    "from sklearn.preprocessing import LabelBinarizer\n",
    "\n",
    "def one_hot_encode(x):\n",
    "    \"\"\"\n",
    "    One hot encode a list of sample labels. Return a one-hot encoded vector for each label.\n",
    "    : x: List of sample Labels\n",
    "    : return: Numpy array of one-hot encoded labels\n",
    "    \"\"\"\n",
    "    # TODO: Implement Function\n",
    "    encoder = LabelBinarizer()\n",
    "    encoder.fit([i for i in range(10)])\n",
    "\n",
    "    return encoder.transform(x)\n",
    "\n",
    "\"\"\"\n",
    "DON'T MODIFY ANYTHING IN THIS CELL THAT IS BELOW THIS LINE\n",
    "\"\"\"\n",
    "tests.test_one_hot_encode(one_hot_encode)"
   ]
  },
  {
   "cell_type": "markdown",
   "metadata": {
    "deletable": true,
    "editable": true
   },
   "source": [
    "### 随机化数据\n",
    "\n",
    "之前探索数据时，你已经了解到，样本的顺序是随机的。再随机化一次也不会有什么关系，但是对于这个数据集没有必要。\n"
   ]
  },
  {
   "cell_type": "markdown",
   "metadata": {
    "deletable": true,
    "editable": true
   },
   "source": [
    "## 预处理所有数据并保存\n",
    "\n",
    "运行下方的代码单元，将预处理所有 CIFAR-10 数据，并保存到文件中。下面的代码还使用了 10% 的训练数据，用来验证。\n"
   ]
  },
  {
   "cell_type": "code",
   "execution_count": 5,
   "metadata": {
    "collapsed": true,
    "deletable": true,
    "editable": true
   },
   "outputs": [],
   "source": [
    "\"\"\"\n",
    "DON'T MODIFY ANYTHING IN THIS CELL\n",
    "\"\"\"\n",
    "# Preprocess Training, Validation, and Testing Data\n",
    "helper.preprocess_and_save_data(cifar10_dataset_folder_path, normalize, one_hot_encode)"
   ]
  },
  {
   "cell_type": "markdown",
   "metadata": {
    "deletable": true,
    "editable": true
   },
   "source": [
    "# 检查点\n",
    "\n",
    "这是你的第一个检查点。如果你什么时候决定再回到该记事本，或需要重新启动该记事本，你可以从这里开始。预处理的数据已保存到本地。\n"
   ]
  },
  {
   "cell_type": "code",
   "execution_count": 6,
   "metadata": {
    "collapsed": true,
    "deletable": true,
    "editable": true
   },
   "outputs": [],
   "source": [
    "\"\"\"\n",
    "DON'T MODIFY ANYTHING IN THIS CELL\n",
    "\"\"\"\n",
    "import pickle\n",
    "import problem_unittests as tests\n",
    "import helper\n",
    "\n",
    "# Load the Preprocessed Validation data\n",
    "valid_features, valid_labels = pickle.load(open('preprocess_validation.p', mode='rb'))"
   ]
  },
  {
   "cell_type": "markdown",
   "metadata": {
    "deletable": true,
    "editable": true
   },
   "source": [
    "## 构建网络\n",
    "\n",
    "对于该神经网络，你需要将每层都构建为一个函数。你看到的大部分代码都位于函数外面。要更全面地测试你的代码，我们需要你将每层放入一个函数中。这样使我们能够提供更好的反馈，并使用我们的统一测试检测简单的错误，然后再提交项目。\n",
    "\n",
    ">**注意**：如果你觉得每周很难抽出足够的时间学习这门课程，我们为此项目提供了一个小捷径。对于接下来的几个问题，你可以使用 [TensorFlow Layers](https://www.tensorflow.org/api_docs/python/tf/layers) 或 [TensorFlow Layers (contrib)](https://www.tensorflow.org/api_guides/python/contrib.layers) 程序包中的类来构建每个层级，但是“卷积和最大池化层级”部分的层级除外。TF Layers 和 Keras 及 TFLearn 层级类似，因此很容易学会。\n",
    "\n",
    ">但是，如果你想充分利用这门课程，请尝试自己解决所有问题，不使用 TF Layers 程序包中的任何类。你依然可以使用其他程序包中的类，这些类和你在 TF Layers 中的类名称是一样的！例如，你可以使用 TF Neural Network 版本的 `conv2d` 类 [tf.nn.conv2d](https://www.tensorflow.org/api_docs/python/tf/nn/conv2d)，而不是 TF Layers 版本的 `conv2d` 类 [tf.layers.conv2d](https://www.tensorflow.org/api_docs/python/tf/layers/conv2d)。\n",
    "\n",
    "我们开始吧！\n",
    "\n",
    "\n",
    "### 输入\n",
    "\n",
    "神经网络需要读取图片数据、one-hot 编码标签和丢弃保留概率（dropout keep probability）。请实现以下函数：\n",
    "\n",
    "* 实现 `neural_net_image_input`\n",
    " * 返回 [TF Placeholder](https://www.tensorflow.org/api_docs/python/tf/placeholder)\n",
    " * 使用 `image_shape` 设置形状，部分大小设为 `None`\n",
    " * 使用 [TF Placeholder](https://www.tensorflow.org/api_docs/python/tf/placeholder) 中的 TensorFlow `name` 参数对 TensorFlow 占位符 \"x\" 命名\n",
    "* 实现 `neural_net_label_input`\n",
    " * 返回 [TF Placeholder](https://www.tensorflow.org/api_docs/python/tf/placeholder)\n",
    " * 使用 `n_classes` 设置形状，部分大小设为 `None`\n",
    " * 使用 [TF Placeholder](https://www.tensorflow.org/api_docs/python/tf/placeholder) 中的 TensorFlow `name` 参数对 TensorFlow 占位符 \"y\" 命名\n",
    "* 实现 `neural_net_keep_prob_input`\n",
    " * 返回 [TF Placeholder](https://www.tensorflow.org/api_docs/python/tf/placeholder)，用于丢弃保留概率\n",
    " * 使用 [TF Placeholder](https://www.tensorflow.org/api_docs/python/tf/placeholder) 中的 TensorFlow `name` 参数对 TensorFlow 占位符 \"keep_prob\" 命名\n",
    "\n",
    "这些名称将在项目结束时，用于加载保存的模型。\n",
    "\n",
    "注意：TensorFlow 中的 `None` 表示形状可以是动态大小。"
   ]
  },
  {
   "cell_type": "code",
   "execution_count": 7,
   "metadata": {
    "collapsed": false,
    "deletable": true,
    "editable": true
   },
   "outputs": [
    {
     "name": "stdout",
     "output_type": "stream",
     "text": [
      "Image Input Tests Passed.\n",
      "Label Input Tests Passed.\n",
      "Keep Prob Tests Passed.\n"
     ]
    }
   ],
   "source": [
    "import tensorflow as tf\n",
    "\n",
    "def neural_net_image_input(image_shape):\n",
    "    \"\"\"\n",
    "    Return a Tensor for a batch of image input\n",
    "    : image_shape: Shape of the images\n",
    "    : return: Tensor for image input.\n",
    "    \"\"\"\n",
    "    # TODO: Implement Function    \n",
    "    return tf.placeholder(tf.float32,shape=[None]+list(image_shape),name='x')\n",
    "\n",
    "\n",
    "def neural_net_label_input(n_classes):\n",
    "    \"\"\"\n",
    "    Return a Tensor for a batch of label input\n",
    "    : n_classes: Number of classes\n",
    "    : return: Tensor for label input.\n",
    "    \"\"\"\n",
    "    # TODO: Implement Function\n",
    "    return tf.placeholder(tf.float32,shape=[None, n_classes],name='y')\n",
    "\n",
    "\n",
    "def neural_net_keep_prob_input():\n",
    "    \"\"\"\n",
    "    Return a Tensor for keep probability\n",
    "    : return: Tensor for keep probability.\n",
    "    \"\"\"\n",
    "    # TODO: Implement Function\n",
    "    return tf.placeholder(tf.float32,name='keep_prob')\n",
    "\n",
    "\n",
    "\"\"\"\n",
    "DON'T MODIFY ANYTHING IN THIS CELL THAT IS BELOW THIS LINE\n",
    "\"\"\"\n",
    "tf.reset_default_graph()\n",
    "tests.test_nn_image_inputs(neural_net_image_input)\n",
    "tests.test_nn_label_inputs(neural_net_label_input)\n",
    "tests.test_nn_keep_prob_inputs(neural_net_keep_prob_input)"
   ]
  },
  {
   "cell_type": "markdown",
   "metadata": {
    "deletable": true,
    "editable": true
   },
   "source": [
    "### 卷积和最大池化层\n",
    "\n",
    "卷积层级适合处理图片。对于此代码单元，你应该实现函数 `conv2d_maxpool` 以便应用卷积然后进行最大池化：\n",
    "\n",
    "* 使用 `conv_ksize`、`conv_num_outputs` 和 `x_tensor` 的形状创建权重（weight）和偏置（bias）。\n",
    "* 使用权重和 `conv_strides` 对 `x_tensor` 应用卷积。\n",
    " * 建议使用我们建议的间距（padding），当然也可以使用任何其他间距。\n",
    "* 添加偏置\n",
    "* 向卷积中添加非线性激活（nonlinear activation）\n",
    "* 使用 `pool_ksize` 和 `pool_strides` 应用最大池化\n",
    " * 建议使用我们建议的间距（padding），当然也可以使用任何其他间距。\n",
    "\n",
    "**注意**：对于**此层**，**请勿使用** [TensorFlow Layers](https://www.tensorflow.org/api_docs/python/tf/layers) 或 [TensorFlow Layers (contrib)](https://www.tensorflow.org/api_guides/python/contrib.layers)，但是仍然可以使用 TensorFlow 的 [Neural Network](https://www.tensorflow.org/api_docs/python/tf/nn) 包。对于所有**其他层**，你依然可以使用快捷方法。\n"
   ]
  },
  {
   "cell_type": "code",
   "execution_count": 8,
   "metadata": {
    "collapsed": false,
    "deletable": true,
    "editable": true
   },
   "outputs": [
    {
     "name": "stdout",
     "output_type": "stream",
     "text": [
      "Tests Passed\n"
     ]
    }
   ],
   "source": [
    "def conv2d_maxpool(x_tensor, conv_num_outputs, conv_ksize, conv_strides, pool_ksize, pool_strides):\n",
    "    \"\"\"\n",
    "    Apply convolution then max pooling to x_tensor\n",
    "    :param x_tensor: TensorFlow Tensor\n",
    "    :param conv_num_outputs: Number of outputs for the convolutional layer\n",
    "    :param conv_ksize: kernal size 2-D Tuple for the convolutional layer\n",
    "    :param conv_strides: Stride 2-D Tuple for convolution\n",
    "    :param pool_ksize: kernal size 2-D Tuple for pool\n",
    "    :param pool_strides: Stride 2-D Tuple for pool\n",
    "    : return: A tensor that represents convolution and max pooling of x_tensor\n",
    "    \"\"\"\n",
    "    # TODO: Implement Function\n",
    "    input_deepth = x_tensor.get_shape().as_list()[-1]\n",
    "    weight = tf.Variable(tf.truncated_normal(conv_ksize + (input_deepth, conv_num_outputs)))\n",
    "    bias = tf.Variable(tf.zeros(conv_num_outputs))\n",
    "    \n",
    "    conv = tf.nn.conv2d(x_tensor, weight, strides=(1,) + conv_strides + (1,), padding='VALID')\n",
    "    conv = tf.nn.bias_add(conv, bias)\n",
    "    conv = tf.nn.relu(conv)\n",
    "\n",
    "    pool = tf.nn.max_pool(conv, (1,) + pool_ksize + (1,), (1,) + pool_strides + (1,), padding='VALID')    \n",
    "    return pool \n",
    "\n",
    "\n",
    "\"\"\"\n",
    "DON'T MODIFY ANYTHING IN THIS CELL THAT IS BELOW THIS LINE\n",
    "\"\"\"\n",
    "tests.test_con_pool(conv2d_maxpool)"
   ]
  },
  {
   "cell_type": "markdown",
   "metadata": {
    "deletable": true,
    "editable": true
   },
   "source": [
    "### 扁平化层\n",
    "\n",
    "实现 `flatten` 函数，将 `x_tensor` 的维度从四维张量（4-D tensor）变成二维张量。输出应该是形状（*部分大小（Batch Size）*，*扁平化图片大小（Flattened Image Size）*）。快捷方法：对于此层，你可以使用 [TensorFlow Layers](https://www.tensorflow.org/api_docs/python/tf/layers) 或 [TensorFlow Layers (contrib)](https://www.tensorflow.org/api_guides/python/contrib.layers) 包中的类。如果你想要更大挑战，可以仅使用其他 TensorFlow 程序包。\n"
   ]
  },
  {
   "cell_type": "code",
   "execution_count": 20,
   "metadata": {
    "collapsed": false,
    "deletable": true,
    "editable": true
   },
   "outputs": [
    {
     "name": "stdout",
     "output_type": "stream",
     "text": [
      "Tests Passed\n"
     ]
    }
   ],
   "source": [
    "from functools import reduce \n",
    "\n",
    "def flatten(x_tensor):\n",
    "    \"\"\"\n",
    "    Flatten x_tensor to (Batch Size, Flattened Image Size)\n",
    "    : x_tensor: A tensor of size (Batch Size, ...), where ... are the image dimensions.\n",
    "    : return: A tensor of size (Batch Size, Flattened Image Size).\n",
    "    \"\"\"\n",
    "    # TODO: Implement Function\n",
    "    lenght = reduce(lambda x,y:x*y, x_tensor.get_shape().as_list()[1:])\n",
    "    return tf.reshape(x_tensor, [-1, lenght])\n",
    "    #return tf.layers.flatten(x_tensor)\n",
    "\n",
    "\"\"\"\n",
    "DON'T MODIFY ANYTHING IN THIS CELL THAT IS BELOW THIS LINE\n",
    "\"\"\"\n",
    "tests.test_flatten(flatten)"
   ]
  },
  {
   "cell_type": "markdown",
   "metadata": {
    "deletable": true,
    "editable": true
   },
   "source": [
    "### 全连接层\n",
    "\n",
    "实现 `fully_conn` 函数，以向 `x_tensor` 应用全连接层，形状为（*部分大小（Batch Size）*，*num_outputs*）。快捷方法：对于此层，你可以使用 [TensorFlow Layers](https://www.tensorflow.org/api_docs/python/tf/layers) 或 [TensorFlow Layers (contrib)](https://www.tensorflow.org/api_guides/python/contrib.layers) 包中的类。如果你想要更大挑战，可以仅使用其他 TensorFlow 程序包。"
   ]
  },
  {
   "cell_type": "code",
   "execution_count": 21,
   "metadata": {
    "collapsed": false,
    "deletable": true,
    "editable": true
   },
   "outputs": [
    {
     "name": "stdout",
     "output_type": "stream",
     "text": [
      "Tests Passed\n"
     ]
    }
   ],
   "source": [
    "def fully_conn(x_tensor, num_outputs):\n",
    "    \"\"\"\n",
    "    Apply a fully connected layer to x_tensor using weight and bias\n",
    "    : x_tensor: A 2-D tensor where the first dimension is batch size.\n",
    "    : num_outputs: The number of output that the new tensor should be.\n",
    "    : return: A 2-D tensor where the second dimension is num_outputs.\n",
    "    \"\"\"\n",
    "    # TODO: Implement Function\n",
    "    return tf.contrib.layers.fully_connected(x_tensor, num_outputs, activation_fn=tf.nn.relu)\n",
    "\n",
    "\"\"\"\n",
    "DON'T MODIFY ANYTHING IN THIS CELL THAT IS BELOW THIS LINE\n",
    "\"\"\"\n",
    "tests.test_fully_conn(fully_conn)"
   ]
  },
  {
   "cell_type": "markdown",
   "metadata": {
    "deletable": true,
    "editable": true
   },
   "source": [
    "### 输出层\n",
    "\n",
    "实现 `output` 函数，向 x_tensor 应用完全连接的层级，形状为（*部分大小（Batch Size）*，*num_outputs*）。快捷方法：对于此层，你可以使用 [TensorFlow Layers](https://www.tensorflow.org/api_docs/python/tf/layers) 或 [TensorFlow Layers (contrib)](https://www.tensorflow.org/api_guides/python/contrib.layers) 包中的类。如果你想要更大挑战，可以仅使用其他 TensorFlow 程序包。\n",
    "\n",
    "**注意**：该层级不应应用 Activation、softmax 或交叉熵（cross entropy）。"
   ]
  },
  {
   "cell_type": "code",
   "execution_count": 22,
   "metadata": {
    "collapsed": false,
    "deletable": true,
    "editable": true
   },
   "outputs": [
    {
     "name": "stdout",
     "output_type": "stream",
     "text": [
      "Tests Passed\n"
     ]
    }
   ],
   "source": [
    "def output(x_tensor, num_outputs):\n",
    "    \"\"\"\n",
    "    Apply a output layer to x_tensor using weight and bias\n",
    "    : x_tensor: A 2-D tensor where the first dimension is batch size.\n",
    "    : num_outputs: The number of output that the new tensor should be.\n",
    "    : return: A 2-D tensor where the second dimension is num_outputs.\n",
    "    \"\"\"\n",
    "    # TODO: Implement Function\n",
    "    return tf.contrib.layers.fully_connected(x_tensor, num_outputs, activation_fn=None)\n",
    "\n",
    "\"\"\"\n",
    "DON'T MODIFY ANYTHING IN THIS CELL THAT IS BELOW THIS LINE\n",
    "\"\"\"\n",
    "tests.test_output(output)"
   ]
  },
  {
   "cell_type": "markdown",
   "metadata": {
    "deletable": true,
    "editable": true
   },
   "source": [
    "### 创建卷积模型\n",
    "\n",
    "实现函数 `conv_net`， 创建卷积神经网络模型。该函数传入一批图片 `x`，并输出对数（logits）。使用你在上方创建的层创建此模型：\n",
    "\n",
    "* 应用 1、2 或 3 个卷积和最大池化层（Convolution and Max Pool layers）\n",
    "* 应用一个扁平层（Flatten Layer）\n",
    "* 应用 1、2 或 3 个完全连接层（Fully Connected Layers）\n",
    "* 应用一个输出层（Output Layer）\n",
    "* 返回输出\n",
    "* 使用 `keep_prob` 向模型中的一个或多个层应用 [TensorFlow 的 Dropout](https://www.tensorflow.org/api_docs/python/tf/nn/dropout)"
   ]
  },
  {
   "cell_type": "code",
   "execution_count": 23,
   "metadata": {
    "collapsed": false,
    "deletable": true,
    "editable": true
   },
   "outputs": [
    {
     "name": "stdout",
     "output_type": "stream",
     "text": [
      "Neural Network Built!\n"
     ]
    }
   ],
   "source": [
    "def conv_net(x, keep_prob):\n",
    "    \"\"\"\n",
    "    Create a convolutional neural network model\n",
    "    : x: Placeholder tensor that holds image data.\n",
    "    : keep_prob: Placeholder tensor that hold dropout keep probability.\n",
    "    : return: Tensor that represents logits\n",
    "    \"\"\"\n",
    "    # TODO: Apply 1, 2, or 3 Convolution and Max Pool layers\n",
    "    #    Play around with different number of outputs, kernel size and stride\n",
    "    # Function Definition from Above:\n",
    "    #    conv2d_maxpool(x_tensor, conv_num_outputs, conv_ksize, conv_strides, pool_ksize, pool_strides)\n",
    "    conv_pool = conv2d_maxpool(x, 32, (4, 4), (1, 1), (2, 2), (2, 2)) \n",
    "    conv_pool = conv2d_maxpool(conv_pool, 64, (4, 4), (1, 1), (2, 2), (2, 2)) \n",
    "\n",
    "    # TODO: Apply a Flatten Layer\n",
    "    # Function Definition from Above:\n",
    "    #   flatten(x_tensor)\n",
    "    ft = flatten(conv_pool)\n",
    "\n",
    "    # TODO: Apply 1, 2, or 3 Fully Connected Layers\n",
    "    #    Play around with different number of outputs\n",
    "    # Function Definition from Above:\n",
    "    #   fully_conn(x_tensor, num_outputs)\n",
    "    fc = fully_conn(ft, 1024)\n",
    "    \n",
    "    # dropput\n",
    "    fc = tf.nn.dropout(fc, keep_prob)\n",
    "    \n",
    "    # TODO: Apply an Output Layer\n",
    "    #    Set this to the number of classes\n",
    "    # Function Definition from Above:\n",
    "    #   output(x_tensor, num_outputs)\n",
    "    ot = output(fc, 10)\n",
    "    \n",
    "    # TODO: return output\n",
    "    return ot\n",
    "\n",
    "\n",
    "\"\"\"\n",
    "DON'T MODIFY ANYTHING IN THIS CELL THAT IS BELOW THIS LINE\n",
    "\"\"\"\n",
    "\n",
    "##############################\n",
    "## Build the Neural Network ##\n",
    "##############################\n",
    "\n",
    "# Remove previous weights, bias, inputs, etc..\n",
    "tf.reset_default_graph()\n",
    "\n",
    "# Inputs\n",
    "x = neural_net_image_input((32, 32, 3))\n",
    "y = neural_net_label_input(10)\n",
    "keep_prob = neural_net_keep_prob_input()\n",
    "\n",
    "# Model\n",
    "logits = conv_net(x, keep_prob)\n",
    "\n",
    "# Name logits Tensor, so that is can be loaded from disk after training\n",
    "logits = tf.identity(logits, name='logits')\n",
    "\n",
    "# Loss and Optimizer\n",
    "cost = tf.reduce_mean(tf.nn.softmax_cross_entropy_with_logits(logits=logits, labels=y))\n",
    "optimizer = tf.train.AdamOptimizer().minimize(cost)\n",
    "\n",
    "# Accuracy\n",
    "correct_pred = tf.equal(tf.argmax(logits, 1), tf.argmax(y, 1))\n",
    "accuracy = tf.reduce_mean(tf.cast(correct_pred, tf.float32), name='accuracy')\n",
    "\n",
    "tests.test_conv_net(conv_net)"
   ]
  },
  {
   "cell_type": "markdown",
   "metadata": {
    "deletable": true,
    "editable": true
   },
   "source": [
    "## 训练神经网络\n",
    "\n",
    "### 单次优化\n",
    "\n",
    "实现函数 `train_neural_network` 以进行单次优化（single optimization）。该优化应该使用 `optimizer` 优化 `session`，其中 `feed_dict` 具有以下参数：\n",
    "\n",
    "* `x` 表示图片输入\n",
    "* `y` 表示标签\n",
    "* `keep_prob` 表示丢弃的保留率\n",
    "\n",
    "每个部分都会调用该函数，所以 `tf.global_variables_initializer()` 已经被调用。\n",
    "\n",
    "注意：不需要返回任何内容。该函数只是用来优化神经网络。\n"
   ]
  },
  {
   "cell_type": "code",
   "execution_count": 24,
   "metadata": {
    "collapsed": false,
    "deletable": true,
    "editable": true
   },
   "outputs": [
    {
     "name": "stdout",
     "output_type": "stream",
     "text": [
      "Tests Passed\n"
     ]
    }
   ],
   "source": [
    "def train_neural_network(session, optimizer, keep_probability, feature_batch, label_batch):\n",
    "    \"\"\"\n",
    "    Optimize the session on a batch of images and labels\n",
    "    : session: Current TensorFlow session\n",
    "    : optimizer: TensorFlow optimizer function\n",
    "    : keep_probability: keep probability\n",
    "    : feature_batch: Batch of Numpy image data\n",
    "    : label_batch: Batch of Numpy label data\n",
    "    \"\"\"\n",
    "    # TODO: Implement Function\n",
    "    session.run(optimizer, feed_dict={\n",
    "                x: feature_batch,\n",
    "                y: label_batch,\n",
    "                keep_prob: keep_probability})\n",
    "    pass\n",
    "\n",
    "\n",
    "\"\"\"\n",
    "DON'T MODIFY ANYTHING IN THIS CELL THAT IS BELOW THIS LINE\n",
    "\"\"\"\n",
    "tests.test_train_nn(train_neural_network)"
   ]
  },
  {
   "cell_type": "markdown",
   "metadata": {
    "deletable": true,
    "editable": true
   },
   "source": [
    "### 显示数据\n",
    "\n",
    "实现函数 `print_stats` 以输出损失和验证准确率。使用全局变量 `valid_features` 和 `valid_labels` 计算验证准确率。使用保留率 `1.0` 计算损失和验证准确率（loss and validation accuracy）。\n"
   ]
  },
  {
   "cell_type": "code",
   "execution_count": 25,
   "metadata": {
    "collapsed": true,
    "deletable": true,
    "editable": true
   },
   "outputs": [],
   "source": [
    "def print_stats(session, feature_batch, label_batch, cost, accuracy):\n",
    "    \"\"\"\n",
    "    Print information about loss and validation accuracy\n",
    "    : session: Current TensorFlow session\n",
    "    : feature_batch: Batch of Numpy image data\n",
    "    : label_batch: Batch of Numpy label data\n",
    "    : cost: TensorFlow cost function\n",
    "    : accuracy: TensorFlow accuracy function\n",
    "    \"\"\"\n",
    "    # TODO: Implement Function\n",
    "    loss = session.run(cost, feed_dict={\n",
    "                x: feature_batch,\n",
    "                y: label_batch,\n",
    "                keep_prob: 1.0})\n",
    "    valid_acc = session.run(accuracy, feed_dict={\n",
    "        x: valid_features,\n",
    "        y: valid_labels,\n",
    "        keep_prob: 1.0})\n",
    "    \n",
    "    print('Loss: {:>10.4f} Validation Accuracy: {:.6f}'.format(\n",
    "                loss,\n",
    "                valid_acc))    \n",
    "#     print('Epoch {:>2}, Batch {:>3} -'\n",
    "#                   'Loss: {:>10.4f} Validation Accuracy: {:.6f}'.format(\n",
    "#                 epoch + 1,\n",
    "#                 batch + 1,\n",
    "#                 loss,\n",
    "#                 valid_acc))"
   ]
  },
  {
   "cell_type": "markdown",
   "metadata": {
    "deletable": true,
    "editable": true
   },
   "source": [
    "### 超参数\n",
    "\n",
    "调试以下超参数：\n",
    "* 设置 `epochs` 表示神经网络停止学习或开始过拟合的迭代次数\n",
    "* 设置 `batch_size`，表示机器内存允许的部分最大体积。大部分人设为以下常见内存大小：\n",
    "\n",
    " * 64\n",
    " * 128\n",
    " * 256\n",
    " * ...\n",
    "* 设置 `keep_probability` 表示使用丢弃时保留节点的概率"
   ]
  },
  {
   "cell_type": "code",
   "execution_count": 26,
   "metadata": {
    "collapsed": true,
    "deletable": true,
    "editable": true
   },
   "outputs": [],
   "source": [
    "# TODO: Tune Parameters\n",
    "epochs = 80\n",
    "batch_size = 128\n",
    "keep_probability = 0.75"
   ]
  },
  {
   "cell_type": "markdown",
   "metadata": {
    "deletable": true,
    "editable": true
   },
   "source": [
    "### 在单个 CIFAR-10 部分上训练\n",
    "\n",
    "我们先用单个部分，而不是用所有的 CIFAR-10 批次训练神经网络。这样可以节省时间，并对模型进行迭代，以提高准确率。最终验证准确率达到 50% 或以上之后，在下一部分对所有数据运行模型。\n"
   ]
  },
  {
   "cell_type": "code",
   "execution_count": 27,
   "metadata": {
    "collapsed": false,
    "deletable": true,
    "editable": true
   },
   "outputs": [
    {
     "name": "stdout",
     "output_type": "stream",
     "text": [
      "Checking the Training on a Single Batch...\n",
      "Epoch  1, CIFAR-10 Batch 1:  Loss:     2.1884 Validation Accuracy: 0.186400\n",
      "Epoch  2, CIFAR-10 Batch 1:  Loss:     2.0464 Validation Accuracy: 0.221600\n",
      "Epoch  3, CIFAR-10 Batch 1:  Loss:     1.9367 Validation Accuracy: 0.263200\n",
      "Epoch  4, CIFAR-10 Batch 1:  Loss:     1.9253 Validation Accuracy: 0.300400\n",
      "Epoch  5, CIFAR-10 Batch 1:  Loss:     1.8865 Validation Accuracy: 0.341600\n",
      "Epoch  6, CIFAR-10 Batch 1:  Loss:     1.7238 Validation Accuracy: 0.373000\n",
      "Epoch  7, CIFAR-10 Batch 1:  Loss:     1.5744 Validation Accuracy: 0.383000\n",
      "Epoch  8, CIFAR-10 Batch 1:  Loss:     1.5512 Validation Accuracy: 0.389800\n",
      "Epoch  9, CIFAR-10 Batch 1:  Loss:     1.3490 Validation Accuracy: 0.403800\n",
      "Epoch 10, CIFAR-10 Batch 1:  Loss:     1.3232 Validation Accuracy: 0.408800\n",
      "Epoch 11, CIFAR-10 Batch 1:  Loss:     1.2473 Validation Accuracy: 0.424200\n",
      "Epoch 12, CIFAR-10 Batch 1:  Loss:     1.2153 Validation Accuracy: 0.415400\n",
      "Epoch 13, CIFAR-10 Batch 1:  Loss:     1.1680 Validation Accuracy: 0.408800\n",
      "Epoch 14, CIFAR-10 Batch 1:  Loss:     1.0872 Validation Accuracy: 0.434200\n",
      "Epoch 15, CIFAR-10 Batch 1:  Loss:     1.0794 Validation Accuracy: 0.443800\n",
      "Epoch 16, CIFAR-10 Batch 1:  Loss:     1.0055 Validation Accuracy: 0.448600\n",
      "Epoch 17, CIFAR-10 Batch 1:  Loss:     1.0299 Validation Accuracy: 0.440600\n",
      "Epoch 18, CIFAR-10 Batch 1:  Loss:     1.0040 Validation Accuracy: 0.432800\n",
      "Epoch 19, CIFAR-10 Batch 1:  Loss:     1.0861 Validation Accuracy: 0.440000\n",
      "Epoch 20, CIFAR-10 Batch 1:  Loss:     0.9581 Validation Accuracy: 0.426800\n",
      "Epoch 21, CIFAR-10 Batch 1:  Loss:     0.8888 Validation Accuracy: 0.453600\n",
      "Epoch 22, CIFAR-10 Batch 1:  Loss:     0.8882 Validation Accuracy: 0.448000\n",
      "Epoch 23, CIFAR-10 Batch 1:  Loss:     0.8089 Validation Accuracy: 0.441600\n",
      "Epoch 24, CIFAR-10 Batch 1:  Loss:     0.7501 Validation Accuracy: 0.452200\n",
      "Epoch 25, CIFAR-10 Batch 1:  Loss:     0.7899 Validation Accuracy: 0.452400\n",
      "Epoch 26, CIFAR-10 Batch 1:  Loss:     0.7574 Validation Accuracy: 0.451400\n",
      "Epoch 27, CIFAR-10 Batch 1:  Loss:     0.7735 Validation Accuracy: 0.458800\n",
      "Epoch 28, CIFAR-10 Batch 1:  Loss:     0.7034 Validation Accuracy: 0.455200\n",
      "Epoch 29, CIFAR-10 Batch 1:  Loss:     0.6076 Validation Accuracy: 0.459800\n",
      "Epoch 30, CIFAR-10 Batch 1:  Loss:     0.5987 Validation Accuracy: 0.476800\n",
      "Epoch 31, CIFAR-10 Batch 1:  Loss:     0.5762 Validation Accuracy: 0.481600\n",
      "Epoch 32, CIFAR-10 Batch 1:  Loss:     0.5854 Validation Accuracy: 0.470200\n",
      "Epoch 33, CIFAR-10 Batch 1:  Loss:     0.5341 Validation Accuracy: 0.472400\n",
      "Epoch 34, CIFAR-10 Batch 1:  Loss:     0.4796 Validation Accuracy: 0.477400\n",
      "Epoch 35, CIFAR-10 Batch 1:  Loss:     0.4793 Validation Accuracy: 0.481000\n",
      "Epoch 36, CIFAR-10 Batch 1:  Loss:     0.4450 Validation Accuracy: 0.472400\n",
      "Epoch 37, CIFAR-10 Batch 1:  Loss:     0.4185 Validation Accuracy: 0.472800\n",
      "Epoch 38, CIFAR-10 Batch 1:  Loss:     0.4153 Validation Accuracy: 0.481200\n",
      "Epoch 39, CIFAR-10 Batch 1:  Loss:     0.3813 Validation Accuracy: 0.476400\n",
      "Epoch 40, CIFAR-10 Batch 1:  Loss:     0.3850 Validation Accuracy: 0.478200\n",
      "Epoch 41, CIFAR-10 Batch 1:  Loss:     0.3921 Validation Accuracy: 0.481600\n",
      "Epoch 42, CIFAR-10 Batch 1:  Loss:     0.3835 Validation Accuracy: 0.459000\n",
      "Epoch 43, CIFAR-10 Batch 1:  Loss:     0.3010 Validation Accuracy: 0.477200\n",
      "Epoch 44, CIFAR-10 Batch 1:  Loss:     0.2470 Validation Accuracy: 0.477000\n",
      "Epoch 45, CIFAR-10 Batch 1:  Loss:     0.2767 Validation Accuracy: 0.478000\n",
      "Epoch 46, CIFAR-10 Batch 1:  Loss:     0.2376 Validation Accuracy: 0.492400\n",
      "Epoch 47, CIFAR-10 Batch 1:  Loss:     0.1949 Validation Accuracy: 0.484600\n",
      "Epoch 48, CIFAR-10 Batch 1:  Loss:     0.1784 Validation Accuracy: 0.492400\n",
      "Epoch 49, CIFAR-10 Batch 1:  Loss:     0.1615 Validation Accuracy: 0.484600\n",
      "Epoch 50, CIFAR-10 Batch 1:  Loss:     0.1543 Validation Accuracy: 0.485400\n",
      "Epoch 51, CIFAR-10 Batch 1:  Loss:     0.1349 Validation Accuracy: 0.495600\n",
      "Epoch 52, CIFAR-10 Batch 1:  Loss:     0.1247 Validation Accuracy: 0.496000\n",
      "Epoch 53, CIFAR-10 Batch 1:  Loss:     0.0857 Validation Accuracy: 0.497600\n",
      "Epoch 54, CIFAR-10 Batch 1:  Loss:     0.1085 Validation Accuracy: 0.493800\n",
      "Epoch 55, CIFAR-10 Batch 1:  Loss:     0.1010 Validation Accuracy: 0.492800\n",
      "Epoch 56, CIFAR-10 Batch 1:  Loss:     0.0758 Validation Accuracy: 0.504000\n",
      "Epoch 57, CIFAR-10 Batch 1:  Loss:     0.0951 Validation Accuracy: 0.487600\n",
      "Epoch 58, CIFAR-10 Batch 1:  Loss:     0.0698 Validation Accuracy: 0.489800\n",
      "Epoch 59, CIFAR-10 Batch 1:  Loss:     0.0737 Validation Accuracy: 0.494400\n",
      "Epoch 60, CIFAR-10 Batch 1:  Loss:     0.0652 Validation Accuracy: 0.493400\n",
      "Epoch 61, CIFAR-10 Batch 1:  Loss:     0.0599 Validation Accuracy: 0.496400\n",
      "Epoch 62, CIFAR-10 Batch 1:  Loss:     0.0525 Validation Accuracy: 0.494600\n",
      "Epoch 63, CIFAR-10 Batch 1:  Loss:     0.0823 Validation Accuracy: 0.501200\n",
      "Epoch 64, CIFAR-10 Batch 1:  Loss:     0.0634 Validation Accuracy: 0.494600\n",
      "Epoch 65, CIFAR-10 Batch 1:  Loss:     0.0629 Validation Accuracy: 0.497600\n",
      "Epoch 66, CIFAR-10 Batch 1:  Loss:     0.0458 Validation Accuracy: 0.504600\n",
      "Epoch 67, CIFAR-10 Batch 1:  Loss:     0.0479 Validation Accuracy: 0.503600\n",
      "Epoch 68, CIFAR-10 Batch 1:  Loss:     0.0420 Validation Accuracy: 0.508200\n",
      "Epoch 69, CIFAR-10 Batch 1:  Loss:     0.0341 Validation Accuracy: 0.512800\n",
      "Epoch 70, CIFAR-10 Batch 1:  Loss:     0.0332 Validation Accuracy: 0.510600\n",
      "Epoch 71, CIFAR-10 Batch 1:  Loss:     0.0299 Validation Accuracy: 0.519800\n",
      "Epoch 72, CIFAR-10 Batch 1:  Loss:     0.0185 Validation Accuracy: 0.513400\n",
      "Epoch 73, CIFAR-10 Batch 1:  Loss:     0.0262 Validation Accuracy: 0.509400\n",
      "Epoch 74, CIFAR-10 Batch 1:  Loss:     0.0143 Validation Accuracy: 0.503800\n",
      "Epoch 75, CIFAR-10 Batch 1:  Loss:     0.0120 Validation Accuracy: 0.506800\n",
      "Epoch 76, CIFAR-10 Batch 1:  Loss:     0.0204 Validation Accuracy: 0.507200\n",
      "Epoch 77, CIFAR-10 Batch 1:  Loss:     0.0103 Validation Accuracy: 0.512000\n",
      "Epoch 78, CIFAR-10 Batch 1:  Loss:     0.0088 Validation Accuracy: 0.510000\n",
      "Epoch 79, CIFAR-10 Batch 1:  Loss:     0.0111 Validation Accuracy: 0.507600\n",
      "Epoch 80, CIFAR-10 Batch 1:  Loss:     0.0040 Validation Accuracy: 0.503800\n",
      "CPU times: user 1min 12s, sys: 26.9 s, total: 1min 39s\n",
      "Wall time: 2min 27s\n"
     ]
    }
   ],
   "source": [
    "%%time\n",
    "\"\"\"\n",
    "DON'T MODIFY ANYTHING IN THIS CELL\n",
    "\"\"\"\n",
    "print('Checking the Training on a Single Batch...')\n",
    "with tf.Session() as sess:\n",
    "    # Initializing the variables\n",
    "    sess.run(tf.global_variables_initializer())\n",
    "    \n",
    "    # Training cycle\n",
    "    for epoch in range(epochs):\n",
    "        batch_i = 1\n",
    "        for batch_features, batch_labels in helper.load_preprocess_training_batch(batch_i, batch_size):\n",
    "            train_neural_network(sess, optimizer, keep_probability, batch_features, batch_labels)\n",
    "        print('Epoch {:>2}, CIFAR-10 Batch {}:  '.format(epoch + 1, batch_i), end='')\n",
    "        print_stats(sess, batch_features, batch_labels, cost, accuracy)"
   ]
  },
  {
   "cell_type": "markdown",
   "metadata": {
    "deletable": true,
    "editable": true
   },
   "source": [
    "### 完全训练模型\n",
    "\n",
    "现在，单个 CIFAR-10 部分的准确率已经不错了，试试所有五个部分吧。"
   ]
  },
  {
   "cell_type": "code",
   "execution_count": 28,
   "metadata": {
    "collapsed": false,
    "deletable": true,
    "editable": true
   },
   "outputs": [
    {
     "name": "stdout",
     "output_type": "stream",
     "text": [
      "Training...\n",
      "Epoch  1, CIFAR-10 Batch 1:  Loss:     2.1891 Validation Accuracy: 0.246800\n",
      "Epoch  1, CIFAR-10 Batch 2:  Loss:     2.0064 Validation Accuracy: 0.295600\n",
      "Epoch  1, CIFAR-10 Batch 3:  Loss:     1.6000 Validation Accuracy: 0.331600\n",
      "Epoch  1, CIFAR-10 Batch 4:  Loss:     1.7243 Validation Accuracy: 0.345400\n",
      "Epoch  1, CIFAR-10 Batch 5:  Loss:     1.7310 Validation Accuracy: 0.375400\n",
      "Epoch  2, CIFAR-10 Batch 1:  Loss:     1.9179 Validation Accuracy: 0.393200\n",
      "Epoch  2, CIFAR-10 Batch 2:  Loss:     1.7013 Validation Accuracy: 0.405600\n",
      "Epoch  2, CIFAR-10 Batch 3:  Loss:     1.2949 Validation Accuracy: 0.408400\n",
      "Epoch  2, CIFAR-10 Batch 4:  Loss:     1.6104 Validation Accuracy: 0.426000\n",
      "Epoch  2, CIFAR-10 Batch 5:  Loss:     1.4978 Validation Accuracy: 0.419800\n",
      "Epoch  3, CIFAR-10 Batch 1:  Loss:     1.6680 Validation Accuracy: 0.449800\n",
      "Epoch  3, CIFAR-10 Batch 2:  Loss:     1.4186 Validation Accuracy: 0.471000\n",
      "Epoch  3, CIFAR-10 Batch 3:  Loss:     1.1155 Validation Accuracy: 0.462400\n",
      "Epoch  3, CIFAR-10 Batch 4:  Loss:     1.2672 Validation Accuracy: 0.471200\n",
      "Epoch  3, CIFAR-10 Batch 5:  Loss:     1.4620 Validation Accuracy: 0.465600\n",
      "Epoch  4, CIFAR-10 Batch 1:  Loss:     1.3321 Validation Accuracy: 0.455600\n",
      "Epoch  4, CIFAR-10 Batch 2:  Loss:     1.2728 Validation Accuracy: 0.478000\n",
      "Epoch  4, CIFAR-10 Batch 3:  Loss:     0.9847 Validation Accuracy: 0.470000\n",
      "Epoch  4, CIFAR-10 Batch 4:  Loss:     1.3332 Validation Accuracy: 0.483000\n",
      "Epoch  4, CIFAR-10 Batch 5:  Loss:     1.4268 Validation Accuracy: 0.486800\n",
      "Epoch  5, CIFAR-10 Batch 1:  Loss:     1.3033 Validation Accuracy: 0.493000\n",
      "Epoch  5, CIFAR-10 Batch 2:  Loss:     1.1755 Validation Accuracy: 0.506800\n",
      "Epoch  5, CIFAR-10 Batch 3:  Loss:     0.9055 Validation Accuracy: 0.504600\n",
      "Epoch  5, CIFAR-10 Batch 4:  Loss:     1.1048 Validation Accuracy: 0.500000\n",
      "Epoch  5, CIFAR-10 Batch 5:  Loss:     1.3022 Validation Accuracy: 0.504800\n",
      "Epoch  6, CIFAR-10 Batch 1:  Loss:     1.2256 Validation Accuracy: 0.515800\n",
      "Epoch  6, CIFAR-10 Batch 2:  Loss:     1.1519 Validation Accuracy: 0.521400\n",
      "Epoch  6, CIFAR-10 Batch 3:  Loss:     0.7909 Validation Accuracy: 0.511600\n",
      "Epoch  6, CIFAR-10 Batch 4:  Loss:     1.1034 Validation Accuracy: 0.515800\n",
      "Epoch  6, CIFAR-10 Batch 5:  Loss:     1.2529 Validation Accuracy: 0.535000\n",
      "Epoch  7, CIFAR-10 Batch 1:  Loss:     1.1231 Validation Accuracy: 0.528800\n",
      "Epoch  7, CIFAR-10 Batch 2:  Loss:     1.0493 Validation Accuracy: 0.536200\n",
      "Epoch  7, CIFAR-10 Batch 3:  Loss:     0.8104 Validation Accuracy: 0.516200\n",
      "Epoch  7, CIFAR-10 Batch 4:  Loss:     1.0747 Validation Accuracy: 0.538600\n",
      "Epoch  7, CIFAR-10 Batch 5:  Loss:     1.1874 Validation Accuracy: 0.521800\n",
      "Epoch  8, CIFAR-10 Batch 1:  Loss:     0.9783 Validation Accuracy: 0.542800\n",
      "Epoch  8, CIFAR-10 Batch 2:  Loss:     0.9204 Validation Accuracy: 0.542800\n",
      "Epoch  8, CIFAR-10 Batch 3:  Loss:     0.7308 Validation Accuracy: 0.543400\n",
      "Epoch  8, CIFAR-10 Batch 4:  Loss:     0.9521 Validation Accuracy: 0.542800\n",
      "Epoch  8, CIFAR-10 Batch 5:  Loss:     0.9896 Validation Accuracy: 0.547000\n",
      "Epoch  9, CIFAR-10 Batch 1:  Loss:     0.9305 Validation Accuracy: 0.551600\n",
      "Epoch  9, CIFAR-10 Batch 2:  Loss:     0.9003 Validation Accuracy: 0.555200\n",
      "Epoch  9, CIFAR-10 Batch 3:  Loss:     0.6698 Validation Accuracy: 0.545800\n",
      "Epoch  9, CIFAR-10 Batch 4:  Loss:     0.9532 Validation Accuracy: 0.554400\n",
      "Epoch  9, CIFAR-10 Batch 5:  Loss:     0.9156 Validation Accuracy: 0.559600\n",
      "Epoch 10, CIFAR-10 Batch 1:  Loss:     0.9397 Validation Accuracy: 0.559400\n",
      "Epoch 10, CIFAR-10 Batch 2:  Loss:     0.7891 Validation Accuracy: 0.563200\n",
      "Epoch 10, CIFAR-10 Batch 3:  Loss:     0.5776 Validation Accuracy: 0.571400\n",
      "Epoch 10, CIFAR-10 Batch 4:  Loss:     0.9162 Validation Accuracy: 0.558600\n",
      "Epoch 10, CIFAR-10 Batch 5:  Loss:     0.8719 Validation Accuracy: 0.559400\n",
      "Epoch 11, CIFAR-10 Batch 1:  Loss:     0.7702 Validation Accuracy: 0.581200\n",
      "Epoch 11, CIFAR-10 Batch 2:  Loss:     0.7524 Validation Accuracy: 0.569600\n",
      "Epoch 11, CIFAR-10 Batch 3:  Loss:     0.5025 Validation Accuracy: 0.568000\n",
      "Epoch 11, CIFAR-10 Batch 4:  Loss:     0.9347 Validation Accuracy: 0.567400\n",
      "Epoch 11, CIFAR-10 Batch 5:  Loss:     0.7182 Validation Accuracy: 0.585800\n",
      "Epoch 12, CIFAR-10 Batch 1:  Loss:     0.7163 Validation Accuracy: 0.581400\n",
      "Epoch 12, CIFAR-10 Batch 2:  Loss:     0.6837 Validation Accuracy: 0.581000\n",
      "Epoch 12, CIFAR-10 Batch 3:  Loss:     0.5118 Validation Accuracy: 0.578400\n",
      "Epoch 12, CIFAR-10 Batch 4:  Loss:     0.7800 Validation Accuracy: 0.542600\n",
      "Epoch 12, CIFAR-10 Batch 5:  Loss:     0.6746 Validation Accuracy: 0.586400\n",
      "Epoch 13, CIFAR-10 Batch 1:  Loss:     0.6837 Validation Accuracy: 0.590800\n",
      "Epoch 13, CIFAR-10 Batch 2:  Loss:     0.6363 Validation Accuracy: 0.585200\n",
      "Epoch 13, CIFAR-10 Batch 3:  Loss:     0.4609 Validation Accuracy: 0.593600\n",
      "Epoch 13, CIFAR-10 Batch 4:  Loss:     0.6864 Validation Accuracy: 0.578800\n",
      "Epoch 13, CIFAR-10 Batch 5:  Loss:     0.5987 Validation Accuracy: 0.590200\n",
      "Epoch 14, CIFAR-10 Batch 1:  Loss:     0.6361 Validation Accuracy: 0.597000\n",
      "Epoch 14, CIFAR-10 Batch 2:  Loss:     0.5178 Validation Accuracy: 0.595600\n",
      "Epoch 14, CIFAR-10 Batch 3:  Loss:     0.3492 Validation Accuracy: 0.606600\n",
      "Epoch 14, CIFAR-10 Batch 4:  Loss:     0.6620 Validation Accuracy: 0.584000\n",
      "Epoch 14, CIFAR-10 Batch 5:  Loss:     0.5281 Validation Accuracy: 0.597800\n",
      "Epoch 15, CIFAR-10 Batch 1:  Loss:     0.5134 Validation Accuracy: 0.595000\n",
      "Epoch 15, CIFAR-10 Batch 2:  Loss:     0.4374 Validation Accuracy: 0.602200\n",
      "Epoch 15, CIFAR-10 Batch 3:  Loss:     0.3757 Validation Accuracy: 0.605600\n",
      "Epoch 15, CIFAR-10 Batch 4:  Loss:     0.5348 Validation Accuracy: 0.603600\n",
      "Epoch 15, CIFAR-10 Batch 5:  Loss:     0.4529 Validation Accuracy: 0.603400\n",
      "Epoch 16, CIFAR-10 Batch 1:  Loss:     0.4698 Validation Accuracy: 0.597200\n",
      "Epoch 16, CIFAR-10 Batch 2:  Loss:     0.4111 Validation Accuracy: 0.610200\n",
      "Epoch 16, CIFAR-10 Batch 3:  Loss:     0.3160 Validation Accuracy: 0.602400\n",
      "Epoch 16, CIFAR-10 Batch 4:  Loss:     0.3948 Validation Accuracy: 0.596400\n",
      "Epoch 16, CIFAR-10 Batch 5:  Loss:     0.3792 Validation Accuracy: 0.605800\n",
      "Epoch 17, CIFAR-10 Batch 1:  Loss:     0.4186 Validation Accuracy: 0.606600\n",
      "Epoch 17, CIFAR-10 Batch 2:  Loss:     0.3531 Validation Accuracy: 0.604600\n",
      "Epoch 17, CIFAR-10 Batch 3:  Loss:     0.2628 Validation Accuracy: 0.604800\n",
      "Epoch 17, CIFAR-10 Batch 4:  Loss:     0.3563 Validation Accuracy: 0.592800\n",
      "Epoch 17, CIFAR-10 Batch 5:  Loss:     0.3387 Validation Accuracy: 0.610800\n",
      "Epoch 18, CIFAR-10 Batch 1:  Loss:     0.3292 Validation Accuracy: 0.608800\n",
      "Epoch 18, CIFAR-10 Batch 2:  Loss:     0.2580 Validation Accuracy: 0.608400\n",
      "Epoch 18, CIFAR-10 Batch 3:  Loss:     0.2107 Validation Accuracy: 0.606400\n",
      "Epoch 18, CIFAR-10 Batch 4:  Loss:     0.2841 Validation Accuracy: 0.607800\n",
      "Epoch 18, CIFAR-10 Batch 5:  Loss:     0.3519 Validation Accuracy: 0.606200\n",
      "Epoch 19, CIFAR-10 Batch 1:  Loss:     0.2918 Validation Accuracy: 0.613000\n",
      "Epoch 19, CIFAR-10 Batch 2:  Loss:     0.2001 Validation Accuracy: 0.613400\n",
      "Epoch 19, CIFAR-10 Batch 3:  Loss:     0.1859 Validation Accuracy: 0.598800\n",
      "Epoch 19, CIFAR-10 Batch 4:  Loss:     0.2330 Validation Accuracy: 0.606000\n",
      "Epoch 19, CIFAR-10 Batch 5:  Loss:     0.2070 Validation Accuracy: 0.611400\n",
      "Epoch 20, CIFAR-10 Batch 1:  Loss:     0.2347 Validation Accuracy: 0.614400\n",
      "Epoch 20, CIFAR-10 Batch 2:  Loss:     0.1374 Validation Accuracy: 0.611000\n",
      "Epoch 20, CIFAR-10 Batch 3:  Loss:     0.1401 Validation Accuracy: 0.602800\n",
      "Epoch 20, CIFAR-10 Batch 4:  Loss:     0.1712 Validation Accuracy: 0.604000\n",
      "Epoch 20, CIFAR-10 Batch 5:  Loss:     0.1941 Validation Accuracy: 0.616800\n",
      "Epoch 21, CIFAR-10 Batch 1:  Loss:     0.2047 Validation Accuracy: 0.606400\n",
      "Epoch 21, CIFAR-10 Batch 2:  Loss:     0.1234 Validation Accuracy: 0.609400\n",
      "Epoch 21, CIFAR-10 Batch 3:  Loss:     0.0986 Validation Accuracy: 0.613400\n",
      "Epoch 21, CIFAR-10 Batch 4:  Loss:     0.1159 Validation Accuracy: 0.614400\n",
      "Epoch 21, CIFAR-10 Batch 5:  Loss:     0.1614 Validation Accuracy: 0.613600\n",
      "Epoch 22, CIFAR-10 Batch 1:  Loss:     0.2191 Validation Accuracy: 0.604200\n",
      "Epoch 22, CIFAR-10 Batch 2:  Loss:     0.0805 Validation Accuracy: 0.606600\n",
      "Epoch 22, CIFAR-10 Batch 3:  Loss:     0.0948 Validation Accuracy: 0.604200\n",
      "Epoch 22, CIFAR-10 Batch 4:  Loss:     0.0931 Validation Accuracy: 0.607800\n",
      "Epoch 22, CIFAR-10 Batch 5:  Loss:     0.1017 Validation Accuracy: 0.604000\n",
      "Epoch 23, CIFAR-10 Batch 1:  Loss:     0.1350 Validation Accuracy: 0.612200\n",
      "Epoch 23, CIFAR-10 Batch 2:  Loss:     0.1180 Validation Accuracy: 0.605400\n",
      "Epoch 23, CIFAR-10 Batch 3:  Loss:     0.0891 Validation Accuracy: 0.605400\n",
      "Epoch 23, CIFAR-10 Batch 4:  Loss:     0.0839 Validation Accuracy: 0.603400\n",
      "Epoch 23, CIFAR-10 Batch 5:  Loss:     0.0910 Validation Accuracy: 0.604600\n",
      "Epoch 24, CIFAR-10 Batch 1:  Loss:     0.1229 Validation Accuracy: 0.602600\n",
      "Epoch 24, CIFAR-10 Batch 2:  Loss:     0.0957 Validation Accuracy: 0.601600\n",
      "Epoch 24, CIFAR-10 Batch 3:  Loss:     0.0802 Validation Accuracy: 0.593400\n",
      "Epoch 24, CIFAR-10 Batch 4:  Loss:     0.0774 Validation Accuracy: 0.607200\n",
      "Epoch 24, CIFAR-10 Batch 5:  Loss:     0.1100 Validation Accuracy: 0.611600\n",
      "Epoch 25, CIFAR-10 Batch 1:  Loss:     0.1269 Validation Accuracy: 0.606800\n",
      "Epoch 25, CIFAR-10 Batch 2:  Loss:     0.0416 Validation Accuracy: 0.615000\n",
      "Epoch 25, CIFAR-10 Batch 3:  Loss:     0.0356 Validation Accuracy: 0.606000\n",
      "Epoch 25, CIFAR-10 Batch 4:  Loss:     0.0478 Validation Accuracy: 0.603000\n",
      "Epoch 25, CIFAR-10 Batch 5:  Loss:     0.0731 Validation Accuracy: 0.611800\n",
      "Epoch 26, CIFAR-10 Batch 1:  Loss:     0.1195 Validation Accuracy: 0.608600\n",
      "Epoch 26, CIFAR-10 Batch 2:  Loss:     0.0659 Validation Accuracy: 0.608600\n",
      "Epoch 26, CIFAR-10 Batch 3:  Loss:     0.0358 Validation Accuracy: 0.602800\n",
      "Epoch 26, CIFAR-10 Batch 4:  Loss:     0.0432 Validation Accuracy: 0.608400\n",
      "Epoch 26, CIFAR-10 Batch 5:  Loss:     0.0633 Validation Accuracy: 0.617400\n",
      "Epoch 27, CIFAR-10 Batch 1:  Loss:     0.0480 Validation Accuracy: 0.618800\n",
      "Epoch 27, CIFAR-10 Batch 2:  Loss:     0.0254 Validation Accuracy: 0.611200\n",
      "Epoch 27, CIFAR-10 Batch 3:  Loss:     0.0154 Validation Accuracy: 0.612400\n",
      "Epoch 27, CIFAR-10 Batch 4:  Loss:     0.0228 Validation Accuracy: 0.597800\n",
      "Epoch 27, CIFAR-10 Batch 5:  Loss:     0.0446 Validation Accuracy: 0.610400\n",
      "Epoch 28, CIFAR-10 Batch 1:  Loss:     0.0385 Validation Accuracy: 0.601600\n",
      "Epoch 28, CIFAR-10 Batch 2:  Loss:     0.0301 Validation Accuracy: 0.607200\n",
      "Epoch 28, CIFAR-10 Batch 3:  Loss:     0.0383 Validation Accuracy: 0.614600\n",
      "Epoch 28, CIFAR-10 Batch 4:  Loss:     0.0298 Validation Accuracy: 0.616200\n",
      "Epoch 28, CIFAR-10 Batch 5:  Loss:     0.0427 Validation Accuracy: 0.615400\n",
      "Epoch 29, CIFAR-10 Batch 1:  Loss:     0.0371 Validation Accuracy: 0.607600\n",
      "Epoch 29, CIFAR-10 Batch 2:  Loss:     0.0455 Validation Accuracy: 0.611200\n",
      "Epoch 29, CIFAR-10 Batch 3:  Loss:     0.0189 Validation Accuracy: 0.604200\n",
      "Epoch 29, CIFAR-10 Batch 4:  Loss:     0.0251 Validation Accuracy: 0.602400\n",
      "Epoch 29, CIFAR-10 Batch 5:  Loss:     0.0276 Validation Accuracy: 0.609800\n",
      "Epoch 30, CIFAR-10 Batch 1:  Loss:     0.0222 Validation Accuracy: 0.603200\n",
      "Epoch 30, CIFAR-10 Batch 2:  Loss:     0.0182 Validation Accuracy: 0.610400\n",
      "Epoch 30, CIFAR-10 Batch 3:  Loss:     0.0118 Validation Accuracy: 0.605000\n",
      "Epoch 30, CIFAR-10 Batch 4:  Loss:     0.0131 Validation Accuracy: 0.606400\n",
      "Epoch 30, CIFAR-10 Batch 5:  Loss:     0.0213 Validation Accuracy: 0.615800\n",
      "Epoch 31, CIFAR-10 Batch 1:  Loss:     0.0295 Validation Accuracy: 0.614200\n",
      "Epoch 31, CIFAR-10 Batch 2:  Loss:     0.0117 Validation Accuracy: 0.617600\n",
      "Epoch 31, CIFAR-10 Batch 3:  Loss:     0.0065 Validation Accuracy: 0.609600\n",
      "Epoch 31, CIFAR-10 Batch 4:  Loss:     0.0224 Validation Accuracy: 0.606000\n",
      "Epoch 31, CIFAR-10 Batch 5:  Loss:     0.0292 Validation Accuracy: 0.608200\n",
      "Epoch 32, CIFAR-10 Batch 1:  Loss:     0.0326 Validation Accuracy: 0.609000\n",
      "Epoch 32, CIFAR-10 Batch 2:  Loss:     0.0124 Validation Accuracy: 0.615800\n",
      "Epoch 32, CIFAR-10 Batch 3:  Loss:     0.0102 Validation Accuracy: 0.617000\n",
      "Epoch 32, CIFAR-10 Batch 4:  Loss:     0.0128 Validation Accuracy: 0.601800\n",
      "Epoch 32, CIFAR-10 Batch 5:  Loss:     0.0472 Validation Accuracy: 0.610800\n",
      "Epoch 33, CIFAR-10 Batch 1:  Loss:     0.0179 Validation Accuracy: 0.618800\n",
      "Epoch 33, CIFAR-10 Batch 2:  Loss:     0.0035 Validation Accuracy: 0.618000\n",
      "Epoch 33, CIFAR-10 Batch 3:  Loss:     0.0043 Validation Accuracy: 0.613200\n",
      "Epoch 33, CIFAR-10 Batch 4:  Loss:     0.0093 Validation Accuracy: 0.610000\n",
      "Epoch 33, CIFAR-10 Batch 5:  Loss:     0.0126 Validation Accuracy: 0.616000\n",
      "Epoch 34, CIFAR-10 Batch 1:  Loss:     0.0227 Validation Accuracy: 0.621400\n",
      "Epoch 34, CIFAR-10 Batch 2:  Loss:     0.0094 Validation Accuracy: 0.615600\n",
      "Epoch 34, CIFAR-10 Batch 3:  Loss:     0.0066 Validation Accuracy: 0.610000\n",
      "Epoch 34, CIFAR-10 Batch 4:  Loss:     0.0063 Validation Accuracy: 0.609600\n",
      "Epoch 34, CIFAR-10 Batch 5:  Loss:     0.0113 Validation Accuracy: 0.611400\n",
      "Epoch 35, CIFAR-10 Batch 1:  Loss:     0.0531 Validation Accuracy: 0.624400\n",
      "Epoch 35, CIFAR-10 Batch 2:  Loss:     0.0102 Validation Accuracy: 0.617200\n",
      "Epoch 35, CIFAR-10 Batch 3:  Loss:     0.0152 Validation Accuracy: 0.617400\n",
      "Epoch 35, CIFAR-10 Batch 4:  Loss:     0.0051 Validation Accuracy: 0.606600\n",
      "Epoch 35, CIFAR-10 Batch 5:  Loss:     0.0242 Validation Accuracy: 0.615600\n",
      "Epoch 36, CIFAR-10 Batch 1:  Loss:     0.0395 Validation Accuracy: 0.624400\n",
      "Epoch 36, CIFAR-10 Batch 2:  Loss:     0.0040 Validation Accuracy: 0.607800\n",
      "Epoch 36, CIFAR-10 Batch 3:  Loss:     0.0221 Validation Accuracy: 0.618600\n",
      "Epoch 36, CIFAR-10 Batch 4:  Loss:     0.0051 Validation Accuracy: 0.605400\n",
      "Epoch 36, CIFAR-10 Batch 5:  Loss:     0.0074 Validation Accuracy: 0.617200\n",
      "Epoch 37, CIFAR-10 Batch 1:  Loss:     0.0251 Validation Accuracy: 0.623400\n",
      "Epoch 37, CIFAR-10 Batch 2:  Loss:     0.0123 Validation Accuracy: 0.625800\n",
      "Epoch 37, CIFAR-10 Batch 3:  Loss:     0.0088 Validation Accuracy: 0.615400\n",
      "Epoch 37, CIFAR-10 Batch 4:  Loss:     0.0031 Validation Accuracy: 0.608800\n",
      "Epoch 37, CIFAR-10 Batch 5:  Loss:     0.0036 Validation Accuracy: 0.622600\n",
      "Epoch 38, CIFAR-10 Batch 1:  Loss:     0.0212 Validation Accuracy: 0.620000\n",
      "Epoch 38, CIFAR-10 Batch 2:  Loss:     0.0047 Validation Accuracy: 0.614800\n",
      "Epoch 38, CIFAR-10 Batch 3:  Loss:     0.0051 Validation Accuracy: 0.620000\n",
      "Epoch 38, CIFAR-10 Batch 4:  Loss:     0.0076 Validation Accuracy: 0.612800\n",
      "Epoch 38, CIFAR-10 Batch 5:  Loss:     0.0022 Validation Accuracy: 0.619600\n",
      "Epoch 39, CIFAR-10 Batch 1:  Loss:     0.0319 Validation Accuracy: 0.620000\n",
      "Epoch 39, CIFAR-10 Batch 2:  Loss:     0.0034 Validation Accuracy: 0.617000\n",
      "Epoch 39, CIFAR-10 Batch 3:  Loss:     0.0087 Validation Accuracy: 0.616800\n",
      "Epoch 39, CIFAR-10 Batch 4:  Loss:     0.0040 Validation Accuracy: 0.610600\n",
      "Epoch 39, CIFAR-10 Batch 5:  Loss:     0.0062 Validation Accuracy: 0.620000\n",
      "Epoch 40, CIFAR-10 Batch 1:  Loss:     0.0180 Validation Accuracy: 0.620800\n",
      "Epoch 40, CIFAR-10 Batch 2:  Loss:     0.0055 Validation Accuracy: 0.616200\n",
      "Epoch 40, CIFAR-10 Batch 3:  Loss:     0.0016 Validation Accuracy: 0.617000\n",
      "Epoch 40, CIFAR-10 Batch 4:  Loss:     0.0015 Validation Accuracy: 0.618400\n",
      "Epoch 40, CIFAR-10 Batch 5:  Loss:     0.0024 Validation Accuracy: 0.625800\n",
      "Epoch 41, CIFAR-10 Batch 1:  Loss:     0.0255 Validation Accuracy: 0.620000\n",
      "Epoch 41, CIFAR-10 Batch 2:  Loss:     0.0066 Validation Accuracy: 0.619400\n",
      "Epoch 41, CIFAR-10 Batch 3:  Loss:     0.0040 Validation Accuracy: 0.616200\n",
      "Epoch 41, CIFAR-10 Batch 4:  Loss:     0.0010 Validation Accuracy: 0.614600\n",
      "Epoch 41, CIFAR-10 Batch 5:  Loss:     0.0010 Validation Accuracy: 0.624600\n",
      "Epoch 42, CIFAR-10 Batch 1:  Loss:     0.0193 Validation Accuracy: 0.625600\n",
      "Epoch 42, CIFAR-10 Batch 2:  Loss:     0.0011 Validation Accuracy: 0.619800\n",
      "Epoch 42, CIFAR-10 Batch 3:  Loss:     0.0167 Validation Accuracy: 0.620000\n",
      "Epoch 42, CIFAR-10 Batch 4:  Loss:     0.0026 Validation Accuracy: 0.620400\n",
      "Epoch 42, CIFAR-10 Batch 5:  Loss:     0.0011 Validation Accuracy: 0.622000\n",
      "Epoch 43, CIFAR-10 Batch 1:  Loss:     0.0308 Validation Accuracy: 0.623200\n",
      "Epoch 43, CIFAR-10 Batch 2:  Loss:     0.0024 Validation Accuracy: 0.608200\n",
      "Epoch 43, CIFAR-10 Batch 3:  Loss:     0.0026 Validation Accuracy: 0.609400\n",
      "Epoch 43, CIFAR-10 Batch 4:  Loss:     0.0017 Validation Accuracy: 0.612000\n",
      "Epoch 43, CIFAR-10 Batch 5:  Loss:     0.0016 Validation Accuracy: 0.617400\n",
      "Epoch 44, CIFAR-10 Batch 1:  Loss:     0.0124 Validation Accuracy: 0.620400\n",
      "Epoch 44, CIFAR-10 Batch 2:  Loss:     0.0044 Validation Accuracy: 0.616200\n",
      "Epoch 44, CIFAR-10 Batch 3:  Loss:     0.0036 Validation Accuracy: 0.609400\n",
      "Epoch 44, CIFAR-10 Batch 4:  Loss:     0.0055 Validation Accuracy: 0.615200\n",
      "Epoch 44, CIFAR-10 Batch 5:  Loss:     0.0025 Validation Accuracy: 0.620800\n",
      "Epoch 45, CIFAR-10 Batch 1:  Loss:     0.0163 Validation Accuracy: 0.620600\n",
      "Epoch 45, CIFAR-10 Batch 2:  Loss:     0.0057 Validation Accuracy: 0.608000\n",
      "Epoch 45, CIFAR-10 Batch 3:  Loss:     0.0009 Validation Accuracy: 0.607600\n",
      "Epoch 45, CIFAR-10 Batch 4:  Loss:     0.0015 Validation Accuracy: 0.611600\n",
      "Epoch 45, CIFAR-10 Batch 5:  Loss:     0.0017 Validation Accuracy: 0.623200\n",
      "Epoch 46, CIFAR-10 Batch 1:  Loss:     0.0092 Validation Accuracy: 0.626200\n",
      "Epoch 46, CIFAR-10 Batch 2:  Loss:     0.0042 Validation Accuracy: 0.611400\n",
      "Epoch 46, CIFAR-10 Batch 3:  Loss:     0.0012 Validation Accuracy: 0.624600\n",
      "Epoch 46, CIFAR-10 Batch 4:  Loss:     0.0082 Validation Accuracy: 0.609200\n",
      "Epoch 46, CIFAR-10 Batch 5:  Loss:     0.0023 Validation Accuracy: 0.623000\n",
      "Epoch 47, CIFAR-10 Batch 1:  Loss:     0.0083 Validation Accuracy: 0.619800\n",
      "Epoch 47, CIFAR-10 Batch 2:  Loss:     0.0075 Validation Accuracy: 0.613600\n",
      "Epoch 47, CIFAR-10 Batch 3:  Loss:     0.0078 Validation Accuracy: 0.614800\n",
      "Epoch 47, CIFAR-10 Batch 4:  Loss:     0.0031 Validation Accuracy: 0.615200\n",
      "Epoch 47, CIFAR-10 Batch 5:  Loss:     0.0039 Validation Accuracy: 0.625200\n",
      "Epoch 48, CIFAR-10 Batch 1:  Loss:     0.0173 Validation Accuracy: 0.625200\n",
      "Epoch 48, CIFAR-10 Batch 2:  Loss:     0.0145 Validation Accuracy: 0.625000\n",
      "Epoch 48, CIFAR-10 Batch 3:  Loss:     0.0021 Validation Accuracy: 0.624000\n",
      "Epoch 48, CIFAR-10 Batch 4:  Loss:     0.0052 Validation Accuracy: 0.616800\n",
      "Epoch 48, CIFAR-10 Batch 5:  Loss:     0.0021 Validation Accuracy: 0.618800\n",
      "Epoch 49, CIFAR-10 Batch 1:  Loss:     0.0129 Validation Accuracy: 0.631000\n",
      "Epoch 49, CIFAR-10 Batch 2:  Loss:     0.0075 Validation Accuracy: 0.611600\n",
      "Epoch 49, CIFAR-10 Batch 3:  Loss:     0.0029 Validation Accuracy: 0.607000\n",
      "Epoch 49, CIFAR-10 Batch 4:  Loss:     0.0030 Validation Accuracy: 0.610600\n",
      "Epoch 49, CIFAR-10 Batch 5:  Loss:     0.0044 Validation Accuracy: 0.629200\n",
      "Epoch 50, CIFAR-10 Batch 1:  Loss:     0.0040 Validation Accuracy: 0.618400\n",
      "Epoch 50, CIFAR-10 Batch 2:  Loss:     0.0035 Validation Accuracy: 0.618200\n",
      "Epoch 50, CIFAR-10 Batch 3:  Loss:     0.0026 Validation Accuracy: 0.616600\n",
      "Epoch 50, CIFAR-10 Batch 4:  Loss:     0.0032 Validation Accuracy: 0.616400\n",
      "Epoch 50, CIFAR-10 Batch 5:  Loss:     0.0006 Validation Accuracy: 0.619000\n",
      "Epoch 51, CIFAR-10 Batch 1:  Loss:     0.0083 Validation Accuracy: 0.621800\n",
      "Epoch 51, CIFAR-10 Batch 2:  Loss:     0.0021 Validation Accuracy: 0.617200\n",
      "Epoch 51, CIFAR-10 Batch 3:  Loss:     0.0004 Validation Accuracy: 0.622200\n",
      "Epoch 51, CIFAR-10 Batch 4:  Loss:     0.0017 Validation Accuracy: 0.610400\n",
      "Epoch 51, CIFAR-10 Batch 5:  Loss:     0.0003 Validation Accuracy: 0.629600\n",
      "Epoch 52, CIFAR-10 Batch 1:  Loss:     0.0070 Validation Accuracy: 0.611000\n",
      "Epoch 52, CIFAR-10 Batch 2:  Loss:     0.0023 Validation Accuracy: 0.621000\n",
      "Epoch 52, CIFAR-10 Batch 3:  Loss:     0.0025 Validation Accuracy: 0.615000\n",
      "Epoch 52, CIFAR-10 Batch 4:  Loss:     0.0011 Validation Accuracy: 0.618400\n",
      "Epoch 52, CIFAR-10 Batch 5:  Loss:     0.0019 Validation Accuracy: 0.622200\n",
      "Epoch 53, CIFAR-10 Batch 1:  Loss:     0.0069 Validation Accuracy: 0.625800\n",
      "Epoch 53, CIFAR-10 Batch 2:  Loss:     0.0027 Validation Accuracy: 0.614200\n",
      "Epoch 53, CIFAR-10 Batch 3:  Loss:     0.0112 Validation Accuracy: 0.624400\n",
      "Epoch 53, CIFAR-10 Batch 4:  Loss:     0.0005 Validation Accuracy: 0.612000\n",
      "Epoch 53, CIFAR-10 Batch 5:  Loss:     0.0011 Validation Accuracy: 0.616000\n",
      "Epoch 54, CIFAR-10 Batch 1:  Loss:     0.0035 Validation Accuracy: 0.620600\n",
      "Epoch 54, CIFAR-10 Batch 2:  Loss:     0.0005 Validation Accuracy: 0.620000\n",
      "Epoch 54, CIFAR-10 Batch 3:  Loss:     0.0022 Validation Accuracy: 0.622000\n",
      "Epoch 54, CIFAR-10 Batch 4:  Loss:     0.0038 Validation Accuracy: 0.616000\n",
      "Epoch 54, CIFAR-10 Batch 5:  Loss:     0.0012 Validation Accuracy: 0.624200\n",
      "Epoch 55, CIFAR-10 Batch 1:  Loss:     0.0039 Validation Accuracy: 0.618600\n",
      "Epoch 55, CIFAR-10 Batch 2:  Loss:     0.0025 Validation Accuracy: 0.614600\n",
      "Epoch 55, CIFAR-10 Batch 3:  Loss:     0.0017 Validation Accuracy: 0.623800\n",
      "Epoch 55, CIFAR-10 Batch 4:  Loss:     0.0026 Validation Accuracy: 0.615200\n",
      "Epoch 55, CIFAR-10 Batch 5:  Loss:     0.0024 Validation Accuracy: 0.624800\n",
      "Epoch 56, CIFAR-10 Batch 1:  Loss:     0.0073 Validation Accuracy: 0.621400\n",
      "Epoch 56, CIFAR-10 Batch 2:  Loss:     0.0010 Validation Accuracy: 0.615400\n",
      "Epoch 56, CIFAR-10 Batch 3:  Loss:     0.0021 Validation Accuracy: 0.624600\n",
      "Epoch 56, CIFAR-10 Batch 4:  Loss:     0.0012 Validation Accuracy: 0.616000\n",
      "Epoch 56, CIFAR-10 Batch 5:  Loss:     0.0036 Validation Accuracy: 0.621400\n",
      "Epoch 57, CIFAR-10 Batch 1:  Loss:     0.0048 Validation Accuracy: 0.620800\n",
      "Epoch 57, CIFAR-10 Batch 2:  Loss:     0.0006 Validation Accuracy: 0.627400\n",
      "Epoch 57, CIFAR-10 Batch 3:  Loss:     0.0028 Validation Accuracy: 0.618800\n",
      "Epoch 57, CIFAR-10 Batch 4:  Loss:     0.0036 Validation Accuracy: 0.631400\n",
      "Epoch 57, CIFAR-10 Batch 5:  Loss:     0.0003 Validation Accuracy: 0.625200\n",
      "Epoch 58, CIFAR-10 Batch 1:  Loss:     0.0049 Validation Accuracy: 0.630000\n",
      "Epoch 58, CIFAR-10 Batch 2:  Loss:     0.0009 Validation Accuracy: 0.620600\n",
      "Epoch 58, CIFAR-10 Batch 3:  Loss:     0.0008 Validation Accuracy: 0.627600\n",
      "Epoch 58, CIFAR-10 Batch 4:  Loss:     0.0010 Validation Accuracy: 0.622200\n",
      "Epoch 58, CIFAR-10 Batch 5:  Loss:     0.0003 Validation Accuracy: 0.619600\n",
      "Epoch 59, CIFAR-10 Batch 1:  Loss:     0.0100 Validation Accuracy: 0.627600\n",
      "Epoch 59, CIFAR-10 Batch 2:  Loss:     0.0021 Validation Accuracy: 0.622000\n",
      "Epoch 59, CIFAR-10 Batch 3:  Loss:     0.0007 Validation Accuracy: 0.624800\n",
      "Epoch 59, CIFAR-10 Batch 4:  Loss:     0.0005 Validation Accuracy: 0.606400\n",
      "Epoch 59, CIFAR-10 Batch 5:  Loss:     0.0011 Validation Accuracy: 0.628200\n",
      "Epoch 60, CIFAR-10 Batch 1:  Loss:     0.0029 Validation Accuracy: 0.626200\n",
      "Epoch 60, CIFAR-10 Batch 2:  Loss:     0.0021 Validation Accuracy: 0.620600\n",
      "Epoch 60, CIFAR-10 Batch 3:  Loss:     0.0008 Validation Accuracy: 0.624000\n",
      "Epoch 60, CIFAR-10 Batch 4:  Loss:     0.0012 Validation Accuracy: 0.620000\n",
      "Epoch 60, CIFAR-10 Batch 5:  Loss:     0.0020 Validation Accuracy: 0.616800\n",
      "Epoch 61, CIFAR-10 Batch 1:  Loss:     0.0070 Validation Accuracy: 0.624200\n",
      "Epoch 61, CIFAR-10 Batch 2:  Loss:     0.0015 Validation Accuracy: 0.615800\n",
      "Epoch 61, CIFAR-10 Batch 3:  Loss:     0.0022 Validation Accuracy: 0.627600\n",
      "Epoch 61, CIFAR-10 Batch 4:  Loss:     0.0006 Validation Accuracy: 0.626400\n",
      "Epoch 61, CIFAR-10 Batch 5:  Loss:     0.0004 Validation Accuracy: 0.629600\n",
      "Epoch 62, CIFAR-10 Batch 1:  Loss:     0.0034 Validation Accuracy: 0.618200\n",
      "Epoch 62, CIFAR-10 Batch 2:  Loss:     0.0007 Validation Accuracy: 0.625600\n",
      "Epoch 62, CIFAR-10 Batch 3:  Loss:     0.0013 Validation Accuracy: 0.628600\n",
      "Epoch 62, CIFAR-10 Batch 4:  Loss:     0.0002 Validation Accuracy: 0.619600\n",
      "Epoch 62, CIFAR-10 Batch 5:  Loss:     0.0001 Validation Accuracy: 0.638800\n",
      "Epoch 63, CIFAR-10 Batch 1:  Loss:     0.0044 Validation Accuracy: 0.626800\n",
      "Epoch 63, CIFAR-10 Batch 2:  Loss:     0.0012 Validation Accuracy: 0.614600\n",
      "Epoch 63, CIFAR-10 Batch 3:  Loss:     0.0010 Validation Accuracy: 0.632000\n",
      "Epoch 63, CIFAR-10 Batch 4:  Loss:     0.0011 Validation Accuracy: 0.628600\n",
      "Epoch 63, CIFAR-10 Batch 5:  Loss:     0.0077 Validation Accuracy: 0.625200\n",
      "Epoch 64, CIFAR-10 Batch 1:  Loss:     0.0093 Validation Accuracy: 0.622400\n",
      "Epoch 64, CIFAR-10 Batch 2:  Loss:     0.0034 Validation Accuracy: 0.616800\n",
      "Epoch 64, CIFAR-10 Batch 3:  Loss:     0.0013 Validation Accuracy: 0.625400\n",
      "Epoch 64, CIFAR-10 Batch 4:  Loss:     0.0006 Validation Accuracy: 0.623600\n",
      "Epoch 64, CIFAR-10 Batch 5:  Loss:     0.0021 Validation Accuracy: 0.625600\n",
      "Epoch 65, CIFAR-10 Batch 1:  Loss:     0.0031 Validation Accuracy: 0.620400\n",
      "Epoch 65, CIFAR-10 Batch 2:  Loss:     0.0004 Validation Accuracy: 0.621400\n",
      "Epoch 65, CIFAR-10 Batch 3:  Loss:     0.0004 Validation Accuracy: 0.624600\n",
      "Epoch 65, CIFAR-10 Batch 4:  Loss:     0.0004 Validation Accuracy: 0.617400\n",
      "Epoch 65, CIFAR-10 Batch 5:  Loss:     0.0009 Validation Accuracy: 0.620600\n",
      "Epoch 66, CIFAR-10 Batch 1:  Loss:     0.0014 Validation Accuracy: 0.619600\n",
      "Epoch 66, CIFAR-10 Batch 2:  Loss:     0.0002 Validation Accuracy: 0.628400\n",
      "Epoch 66, CIFAR-10 Batch 3:  Loss:     0.0018 Validation Accuracy: 0.630000\n",
      "Epoch 66, CIFAR-10 Batch 4:  Loss:     0.0004 Validation Accuracy: 0.625000\n",
      "Epoch 66, CIFAR-10 Batch 5:  Loss:     0.0012 Validation Accuracy: 0.626600\n",
      "Epoch 67, CIFAR-10 Batch 1:  Loss:     0.0010 Validation Accuracy: 0.620200\n",
      "Epoch 67, CIFAR-10 Batch 2:  Loss:     0.0001 Validation Accuracy: 0.621800\n",
      "Epoch 67, CIFAR-10 Batch 3:  Loss:     0.0003 Validation Accuracy: 0.628600\n",
      "Epoch 67, CIFAR-10 Batch 4:  Loss:     0.0001 Validation Accuracy: 0.625200\n",
      "Epoch 67, CIFAR-10 Batch 5:  Loss:     0.0002 Validation Accuracy: 0.624600\n",
      "Epoch 68, CIFAR-10 Batch 1:  Loss:     0.0055 Validation Accuracy: 0.619600\n",
      "Epoch 68, CIFAR-10 Batch 2:  Loss:     0.0000 Validation Accuracy: 0.615200\n",
      "Epoch 68, CIFAR-10 Batch 3:  Loss:     0.0002 Validation Accuracy: 0.622200\n",
      "Epoch 68, CIFAR-10 Batch 4:  Loss:     0.0001 Validation Accuracy: 0.628200\n",
      "Epoch 68, CIFAR-10 Batch 5:  Loss:     0.0002 Validation Accuracy: 0.631000\n",
      "Epoch 69, CIFAR-10 Batch 1:  Loss:     0.0072 Validation Accuracy: 0.631000\n",
      "Epoch 69, CIFAR-10 Batch 2:  Loss:     0.0001 Validation Accuracy: 0.623600\n",
      "Epoch 69, CIFAR-10 Batch 3:  Loss:     0.0003 Validation Accuracy: 0.625600\n",
      "Epoch 69, CIFAR-10 Batch 4:  Loss:     0.0002 Validation Accuracy: 0.623000\n",
      "Epoch 69, CIFAR-10 Batch 5:  Loss:     0.0068 Validation Accuracy: 0.622600\n",
      "Epoch 70, CIFAR-10 Batch 1:  Loss:     0.0013 Validation Accuracy: 0.624800\n",
      "Epoch 70, CIFAR-10 Batch 2:  Loss:     0.0002 Validation Accuracy: 0.623400\n",
      "Epoch 70, CIFAR-10 Batch 3:  Loss:     0.0001 Validation Accuracy: 0.629200\n",
      "Epoch 70, CIFAR-10 Batch 4:  Loss:     0.0004 Validation Accuracy: 0.627800\n",
      "Epoch 70, CIFAR-10 Batch 5:  Loss:     0.0008 Validation Accuracy: 0.626000\n",
      "Epoch 71, CIFAR-10 Batch 1:  Loss:     0.0009 Validation Accuracy: 0.632400\n",
      "Epoch 71, CIFAR-10 Batch 2:  Loss:     0.0099 Validation Accuracy: 0.625000\n",
      "Epoch 71, CIFAR-10 Batch 3:  Loss:     0.0002 Validation Accuracy: 0.637000\n",
      "Epoch 71, CIFAR-10 Batch 4:  Loss:     0.0002 Validation Accuracy: 0.629000\n",
      "Epoch 71, CIFAR-10 Batch 5:  Loss:     0.0014 Validation Accuracy: 0.628000\n",
      "Epoch 72, CIFAR-10 Batch 1:  Loss:     0.0023 Validation Accuracy: 0.623200\n",
      "Epoch 72, CIFAR-10 Batch 2:  Loss:     0.0001 Validation Accuracy: 0.620400\n",
      "Epoch 72, CIFAR-10 Batch 3:  Loss:     0.0009 Validation Accuracy: 0.624400\n",
      "Epoch 72, CIFAR-10 Batch 4:  Loss:     0.0004 Validation Accuracy: 0.629200\n",
      "Epoch 72, CIFAR-10 Batch 5:  Loss:     0.0020 Validation Accuracy: 0.621600\n",
      "Epoch 73, CIFAR-10 Batch 1:  Loss:     0.0037 Validation Accuracy: 0.627800\n",
      "Epoch 73, CIFAR-10 Batch 2:  Loss:     0.0002 Validation Accuracy: 0.632000\n",
      "Epoch 73, CIFAR-10 Batch 3:  Loss:     0.0001 Validation Accuracy: 0.630000\n",
      "Epoch 73, CIFAR-10 Batch 4:  Loss:     0.0004 Validation Accuracy: 0.628200\n",
      "Epoch 73, CIFAR-10 Batch 5:  Loss:     0.0002 Validation Accuracy: 0.625600\n",
      "Epoch 74, CIFAR-10 Batch 1:  Loss:     0.0012 Validation Accuracy: 0.629400\n",
      "Epoch 74, CIFAR-10 Batch 2:  Loss:     0.0004 Validation Accuracy: 0.631800\n",
      "Epoch 74, CIFAR-10 Batch 3:  Loss:     0.0001 Validation Accuracy: 0.629800\n",
      "Epoch 74, CIFAR-10 Batch 4:  Loss:     0.0002 Validation Accuracy: 0.631200\n",
      "Epoch 74, CIFAR-10 Batch 5:  Loss:     0.0005 Validation Accuracy: 0.627800\n",
      "Epoch 75, CIFAR-10 Batch 1:  Loss:     0.0005 Validation Accuracy: 0.626800\n",
      "Epoch 75, CIFAR-10 Batch 2:  Loss:     0.0007 Validation Accuracy: 0.634400\n",
      "Epoch 75, CIFAR-10 Batch 3:  Loss:     0.0001 Validation Accuracy: 0.635200\n",
      "Epoch 75, CIFAR-10 Batch 4:  Loss:     0.0002 Validation Accuracy: 0.620200\n",
      "Epoch 75, CIFAR-10 Batch 5:  Loss:     0.0000 Validation Accuracy: 0.633600\n",
      "Epoch 76, CIFAR-10 Batch 1:  Loss:     0.0029 Validation Accuracy: 0.623800\n",
      "Epoch 76, CIFAR-10 Batch 2:  Loss:     0.0002 Validation Accuracy: 0.632800\n",
      "Epoch 76, CIFAR-10 Batch 3:  Loss:     0.0000 Validation Accuracy: 0.632000\n",
      "Epoch 76, CIFAR-10 Batch 4:  Loss:     0.0002 Validation Accuracy: 0.619800\n",
      "Epoch 76, CIFAR-10 Batch 5:  Loss:     0.0001 Validation Accuracy: 0.628000\n",
      "Epoch 77, CIFAR-10 Batch 1:  Loss:     0.0009 Validation Accuracy: 0.629000\n",
      "Epoch 77, CIFAR-10 Batch 2:  Loss:     0.0001 Validation Accuracy: 0.631200\n",
      "Epoch 77, CIFAR-10 Batch 3:  Loss:     0.0002 Validation Accuracy: 0.627400\n",
      "Epoch 77, CIFAR-10 Batch 4:  Loss:     0.0002 Validation Accuracy: 0.624600\n",
      "Epoch 77, CIFAR-10 Batch 5:  Loss:     0.0001 Validation Accuracy: 0.629000\n",
      "Epoch 78, CIFAR-10 Batch 1:  Loss:     0.0028 Validation Accuracy: 0.625600\n",
      "Epoch 78, CIFAR-10 Batch 2:  Loss:     0.0001 Validation Accuracy: 0.625600\n",
      "Epoch 78, CIFAR-10 Batch 3:  Loss:     0.0013 Validation Accuracy: 0.627200\n",
      "Epoch 78, CIFAR-10 Batch 4:  Loss:     0.0045 Validation Accuracy: 0.620200\n",
      "Epoch 78, CIFAR-10 Batch 5:  Loss:     0.0001 Validation Accuracy: 0.627400\n",
      "Epoch 79, CIFAR-10 Batch 1:  Loss:     0.0145 Validation Accuracy: 0.624800\n",
      "Epoch 79, CIFAR-10 Batch 2:  Loss:     0.0005 Validation Accuracy: 0.619600\n",
      "Epoch 79, CIFAR-10 Batch 3:  Loss:     0.0004 Validation Accuracy: 0.630200\n",
      "Epoch 79, CIFAR-10 Batch 4:  Loss:     0.0021 Validation Accuracy: 0.623600\n",
      "Epoch 79, CIFAR-10 Batch 5:  Loss:     0.0001 Validation Accuracy: 0.628200\n",
      "Epoch 80, CIFAR-10 Batch 1:  Loss:     0.0018 Validation Accuracy: 0.630000\n",
      "Epoch 80, CIFAR-10 Batch 2:  Loss:     0.0014 Validation Accuracy: 0.627400\n",
      "Epoch 80, CIFAR-10 Batch 3:  Loss:     0.0003 Validation Accuracy: 0.637400\n",
      "Epoch 80, CIFAR-10 Batch 4:  Loss:     0.0007 Validation Accuracy: 0.624000\n",
      "Epoch 80, CIFAR-10 Batch 5:  Loss:     0.0001 Validation Accuracy: 0.619000\n"
     ]
    }
   ],
   "source": [
    "\"\"\"\n",
    "DON'T MODIFY ANYTHING IN THIS CELL\n",
    "\"\"\"\n",
    "save_model_path = './image_classification'\n",
    "\n",
    "print('Training...')\n",
    "with tf.Session() as sess:\n",
    "    # Initializing the variables\n",
    "    sess.run(tf.global_variables_initializer())\n",
    "    \n",
    "    # Training cycle\n",
    "    for epoch in range(epochs):\n",
    "        # Loop over all batches\n",
    "        n_batches = 5\n",
    "        for batch_i in range(1, n_batches + 1):\n",
    "            for batch_features, batch_labels in helper.load_preprocess_training_batch(batch_i, batch_size):\n",
    "                train_neural_network(sess, optimizer, keep_probability, batch_features, batch_labels)\n",
    "            print('Epoch {:>2}, CIFAR-10 Batch {}:  '.format(epoch + 1, batch_i), end='')\n",
    "            print_stats(sess, batch_features, batch_labels, cost, accuracy)\n",
    "            \n",
    "    # Save Model\n",
    "    saver = tf.train.Saver()\n",
    "    save_path = saver.save(sess, save_model_path)"
   ]
  },
  {
   "cell_type": "markdown",
   "metadata": {
    "deletable": true,
    "editable": true
   },
   "source": [
    "# 检查点\n",
    "\n",
    "模型已保存到本地。\n",
    "\n",
    "## 测试模型\n",
    "\n",
    "利用测试数据集测试你的模型。这将是最终的准确率。你的准确率应该高于 50%。如果没达到，请继续调整模型结构和参数。"
   ]
  },
  {
   "cell_type": "code",
   "execution_count": 29,
   "metadata": {
    "collapsed": false,
    "deletable": true,
    "editable": true
   },
   "outputs": [
    {
     "name": "stdout",
     "output_type": "stream",
     "text": [
      "Testing Accuracy: 0.6101661392405063\n",
      "\n"
     ]
    },
    {
     "data": {
      "image/png": "[encoded data removed]",
      "text/plain": [
       "<matplotlib.figure.Figure at 0x7fc8522d0c50>"
      ]
     },
     "metadata": {
      "image/png": {
       "height": 319,
       "width": 349
      }
     },
     "output_type": "display_data"
    }
   ],
   "source": [
    "\"\"\"\n",
    "DON'T MODIFY ANYTHING IN THIS CELL\n",
    "\"\"\"\n",
    "%matplotlib inline\n",
    "%config InlineBackend.figure_format = 'retina'\n",
    "\n",
    "import tensorflow as tf\n",
    "import pickle\n",
    "import helper\n",
    "import random\n",
    "\n",
    "# Set batch size if not already set\n",
    "try:\n",
    "    if batch_size:\n",
    "        pass\n",
    "except NameError:\n",
    "    batch_size = 64\n",
    "\n",
    "save_model_path = './image_classification'\n",
    "n_samples = 4\n",
    "top_n_predictions = 3\n",
    "\n",
    "def test_model():\n",
    "    \"\"\"\n",
    "    Test the saved model against the test dataset\n",
    "    \"\"\"\n",
    "\n",
    "    test_features, test_labels = pickle.load(open('preprocess_test.p', mode='rb'))\n",
    "    loaded_graph = tf.Graph()\n",
    "\n",
    "    with tf.Session(graph=loaded_graph) as sess:\n",
    "        # Load model\n",
    "        loader = tf.train.import_meta_graph(save_model_path + '.meta')\n",
    "        loader.restore(sess, save_model_path)\n",
    "\n",
    "        # Get Tensors from loaded model\n",
    "        loaded_x = loaded_graph.get_tensor_by_name('x:0')\n",
    "        loaded_y = loaded_graph.get_tensor_by_name('y:0')\n",
    "        loaded_keep_prob = loaded_graph.get_tensor_by_name('keep_prob:0')\n",
    "        loaded_logits = loaded_graph.get_tensor_by_name('logits:0')\n",
    "        loaded_acc = loaded_graph.get_tensor_by_name('accuracy:0')\n",
    "        \n",
    "        # Get accuracy in batches for memory limitations\n",
    "        test_batch_acc_total = 0\n",
    "        test_batch_count = 0\n",
    "        \n",
    "        for test_feature_batch, test_label_batch in helper.batch_features_labels(test_features, test_labels, batch_size):\n",
    "            test_batch_acc_total += sess.run(\n",
    "                loaded_acc,\n",
    "                feed_dict={loaded_x: test_feature_batch, loaded_y: test_label_batch, loaded_keep_prob: 1.0})\n",
    "            test_batch_count += 1\n",
    "\n",
    "        print('Testing Accuracy: {}\\n'.format(test_batch_acc_total/test_batch_count))\n",
    "\n",
    "        # Print Random Samples\n",
    "        random_test_features, random_test_labels = tuple(zip(*random.sample(list(zip(test_features, test_labels)), n_samples)))\n",
    "        random_test_predictions = sess.run(\n",
    "            tf.nn.top_k(tf.nn.softmax(loaded_logits), top_n_predictions),\n",
    "            feed_dict={loaded_x: random_test_features, loaded_y: random_test_labels, loaded_keep_prob: 1.0})\n",
    "        helper.display_image_predictions(random_test_features, random_test_labels, random_test_predictions)\n",
    "\n",
    "\n",
    "test_model()"
   ]
  },
  {
   "cell_type": "markdown",
   "metadata": {
    "deletable": true,
    "editable": true
   },
   "source": [
    "## 为何准确率只有50-80%？\n",
    "\n",
    "你可能想问，为何准确率不能更高了？首先，对于简单的 CNN 网络来说，50% 已经不低了。纯粹猜测的准确率为10%。但是，你可能注意到有人的准确率[远远超过 80%](http://rodrigob.github.io/are_we_there_yet/build/classification_datasets_results.html#43494641522d3130)。这是因为我们还没有介绍所有的神经网络知识。我们还需要掌握一些其他技巧。\n",
    "\n",
    "## 提交项目\n",
    "\n",
    "提交项目时，确保先运行所有单元，然后再保存记事本。将 notebook 文件另存为“dlnd_image_classification.ipynb”，再在目录 \"File\" -> \"Download as\" 另存为 HTML 格式。请在提交的项目中包含 “helper.py” 和 “problem_unittests.py” 文件。\n"
   ]
  }
 ],
 "metadata": {
  "kernelspec": {
   "display_name": "Python 3",
   "language": "python",
   "name": "python3"
  },
  "language_info": {
   "codemirror_mode": {
    "name": "ipython",
    "version": 3
   },
   "file_extension": ".py",
   "mimetype": "text/x-python",
   "name": "python",
   "nbconvert_exporter": "python",
   "pygments_lexer": "ipython3",
   "version": "3.5.2"
  },
  "widgets": {
   "state": {},
   "version": "1.1.2"
  }
 },
 "nbformat": 4,
 "nbformat_minor": 1
}
